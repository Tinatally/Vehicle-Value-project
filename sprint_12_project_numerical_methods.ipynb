{
 "cells": [
  {
   "cell_type": "markdown",
   "metadata": {},
   "source": [
    "Rusty Bargain used car sales service is developing an app to attract new customers. In that app, you can quickly find out the market value of your car. You have access to historical data: technical specifications, trim versions, and prices. You need to build the model to determine the value. \n",
    "\n",
    "Rusty Bargain is interested in:\n",
    "\n",
    "- the quality of the prediction;\n",
    "- the speed of the prediction;\n",
    "- the time required for training"
   ]
  },
  {
   "cell_type": "markdown",
   "metadata": {},
   "source": [
    "# Business Goal\n",
    "\n",
    "1. Train different models with various hyperparameters and to compare gradient boosting methods with random forest, decision tree, and linear regression.\n",
    "2. Analyze the speed and quality of the models.\n",
    "3. Use the RMSE metric to evaluate the models."
   ]
  },
  {
   "cell_type": "markdown",
   "metadata": {},
   "source": [
    "## Data preparation"
   ]
  },
  {
   "cell_type": "code",
   "execution_count": 1,
   "metadata": {},
   "outputs": [],
   "source": [
    "import pandas as pd\n",
    "import numpy as np\n",
    "%matplotlib inline\n",
    "import matplotlib.pyplot as plt\n",
    "import seaborn as sb\n",
    "from sklearn.linear_model import LinearRegression\n",
    "from sklearn.model_selection import train_test_split\n",
    "from sklearn.metrics import mean_squared_error\n",
    "import catboost as cb\n",
    "from catboost import CatBoostRegressor, Pool\n",
    "from lightgbm import LGBMRegressor\n",
    "from xgboost import XGBRegressor\n",
    "from sklearn.ensemble import RandomForestRegressor\n",
    "from sklearn.tree import DecisionTreeRegressor\n",
    "from sklearn.preprocessing import OrdinalEncoder,LabelEncoder\n",
    "from sklearn.preprocessing import StandardScaler\n",
    "from sklearn.model_selection import GridSearchCV\n",
    "import timeit\n",
    "import sys\n",
    "import warnings\n",
    "\n",
    "if not sys.warnoptions:\n",
    "    warnings.simplefilter(\"ignore\")"
   ]
  },
  {
   "cell_type": "code",
   "execution_count": 2,
   "metadata": {},
   "outputs": [],
   "source": [
    "try:\n",
    "    rust_df = pd.read_csv('https://code.s3.yandex.net/datasets/car_data.csv')\n",
    "except:\n",
    "    rust_df = pd.read_csv('/datasets/car_data.csv')"
   ]
  },
  {
   "cell_type": "code",
   "execution_count": 3,
   "metadata": {},
   "outputs": [],
   "source": [
    "def data_info(df):\n",
    "    \"\"\"Takes the dataset and provides summary info about the it.\"\"\"\n",
    "    print('Head:')\n",
    "    display(df.head())\n",
    "    print('--End--')\n",
    "    print()\n",
    "    print('Info:')\n",
    "    display(df.info())\n",
    "    print('--End--')\n",
    "    print()\n",
    "    print('Isnull:')\n",
    "    display(df.isnull().sum()/df.shape[0])\n",
    "    print('--End--')\n",
    "    print()\n",
    "    print('Duplicates:')\n",
    "    display(df.duplicated().sum())\n",
    "    print('--End--')\n",
    "    print()\n",
    "    print('Describe:')\n",
    "    print(df.describe())\n",
    "    \n",
    "def eval_cal(y_test,y_predicted):\n",
    "    \"\"\"Takes the y_true and y_predicted to \n",
    "        compute the rmse of the model.\"\"\"\n",
    "    return mean_squared_error(y_test,y_predicted)**0.5    \n",
    "\n",
    "def linear_reg(x_train, x_test,y_train, y_test):\n",
    "    \"\"\"Based on linearRegression, the function takes the \n",
    "        datasets for training and testing and returns the \n",
    "        rmse after scaling and training of the model.\"\"\"\n",
    "    scaler = StandardScaler()\n",
    "    scaler.fit(x_train)\n",
    "    x_train = scaler.transform(x_train)\n",
    "    x_test = scaler.transform(x_test)\n",
    "    lr = LinearRegression().fit(x_train,y_train)\n",
    "    y_predicted = lr.predict(x_test)\n",
    "    rmse = eval_cal(y_test,y_predicted)\n",
    "    print(f'RMSE: {rmse:.2f}')\n",
    "    print(\"time {}\".format(timeit.timeit()))  \n",
    "    \n",
    "def Decisiontree(x_train, x_test,y_train, y_test):\n",
    "    \"\"\"Based on DecisionTreeRegressrion, the function \n",
    "        takes the datasets for training and testing and \n",
    "        returns the rmse using the best params from gridsearch.\"\"\"\n",
    "    params = {'min_samples_split': range(2, 10, 2), 'max_depth': range(4,8,2)}\n",
    "    g_cv = GridSearchCV(DecisionTreeRegressor(random_state=123),\n",
    "                        param_grid=params,scoring='neg_root_mean_squared_error',\n",
    "                        cv=5,refit=True)\n",
    "    g_cv.fit(x_train, y_train)\n",
    "    best_params = g_cv.best_params_\n",
    "    dtr = DecisionTreeRegressor(**best_params).fit(x_train, y_train)\n",
    "    y_predicted = dtr.predict(x_test)\n",
    "    rmse = eval_cal(y_test,y_predicted)\n",
    "    print(f'RMSE: {rmse:.2f}')\n",
    "    print(\"time {}\".format(timeit.timeit()))\n",
    "\n",
    "def RandomForestReg(x_train, x_test,y_train, y_test):\n",
    "    \"\"\"Based on RandomForestRegression, the function takes the \n",
    "        features and target sets. It then searches and uses\n",
    "        best parameters for the rmse computation.\"\"\"\n",
    "    params = {'min_samples_split': range(2, 10, 2), \n",
    "              'max_depth': range(4,8,2), 'n_estimators':range(1,50,10)}\n",
    "    g_cv = GridSearchCV(RandomForestRegressor(random_state=123),\n",
    "                        param_grid=params,scoring='neg_root_mean_squared_error', \n",
    "                        cv=5,refit=True)\n",
    "    g_cv.fit(x_train, y_train)\n",
    "    best_params = g_cv.best_params_\n",
    "    rfr = RandomForestRegressor(**best_params).fit(x_train, y_train)\n",
    "    y_predicted = rfr.predict(x_test)\n",
    "    rmse = eval_cal(y_test,y_predicted)\n",
    "    print(f'RMSE: {rmse:.2f}')\n",
    "    print(\"time {}\".format(timeit.timeit()))\n",
    "    \n",
    "def xgb(x_train, x_test,y_train, y_test):\n",
    "    \"\"\"This function based on XGBoosting, searches for the best params \n",
    "        using gridsearchCV and returns the rmse of the model.\"\"\"\n",
    "    params = {'max_depth': [4,8],\n",
    "              'objective':['reg:squarederror'],\n",
    "              'learning_rate':[0.1]}\n",
    "    g_cv = GridSearchCV(XGBRegressor(treemethod='gpu_hist',gpu_id=0,random_state=123),\n",
    "                        param_grid=params,\n",
    "                        scoring='neg_root_mean_squared_error', cv=5,verbose=False)\n",
    "    g_cv.fit(x_train, y_train)\n",
    "    xgbr = XGBRegressor(**g_cv.best_params_)\n",
    "    xgbr.fit(x_train,y_train,eval_set=[(x_test,y_test)], eval_metric='rmse')\n",
    "    y_predicted = xgbr.predict(x_test)\n",
    "    rmse = eval_cal(y_test,y_predicted)\n",
    "    print(f'RMSE: {rmse:.2f}')\n",
    "    print(\"time {}\".format(timeit.timeit()))\n",
    "    \n",
    "def catboostR(x_train, x_test,y_train, y_test):\n",
    "    \"\"\"This function base on Catboosting, uses the \n",
    "        different paramenters to compute the rmse of the model.\"\"\"\n",
    "    params = {'iterations': [10, 15, 20],\n",
    "              'learning_rate': [0.03, 0.1],\n",
    "              'depth': [2, 4, 6, 8],\n",
    "              'l2_leaf_reg': [0.2, 0.5, 1, 3]}\n",
    "    cat = CatBoostRegressor(loss_function='RMSE',random_state=123,metric_period=5)\n",
    "    cat.grid_search(params, train_dataset)\n",
    "    y_predicted = cat.predict(x_test)\n",
    "    rmse = eval_cal(y_test,y_predicted)\n",
    "    print(f'RMSE: {rmse:.2f}')\n",
    "    print(\"time {}\".format(timeit.timeit()))\n",
    "    \n",
    "def Lightgbmreg(x_train,x_test,y_train,y_test):\n",
    "    \"\"\"This function base on LGBM, searches for the best params \n",
    "        using gridsearchCV and returns the rmse of the model.\"\"\"\n",
    "    params = {'learning_rate': [0.1],\n",
    "              'max_depth': [6,8],\n",
    "              'n_estimator':[100,400]}\n",
    "    g_cv = GridSearchCV(LGBMRegressor(random_state=123),\n",
    "                        scoring='neg_root_mean_squared_error',\n",
    "                        param_grid=params, cv=5)\n",
    "    g_cv.fit(x_train, y_train)\n",
    "    lgbm = LGBMRegressor(**g_cv.best_params_)\n",
    "    lgbm.fit(x_train,y_train,categorical_feature=feature_categorical,verbose=1)           \n",
    "    y_predicted = lgbm.predict(x_test)\n",
    "    rmse = eval_cal(y_test,y_predicted)\n",
    "    print(f'RMSE: {rmse:.2f}')\n",
    "    print(\"time {}\".format(timeit.timeit()))"
   ]
  },
  {
   "cell_type": "code",
   "execution_count": 4,
   "metadata": {},
   "outputs": [
    {
     "name": "stdout",
     "output_type": "stream",
     "text": [
      "Head:\n"
     ]
    },
    {
     "data": {
      "text/html": [
       "<div>\n",
       "<style scoped>\n",
       "    .dataframe tbody tr th:only-of-type {\n",
       "        vertical-align: middle;\n",
       "    }\n",
       "\n",
       "    .dataframe tbody tr th {\n",
       "        vertical-align: top;\n",
       "    }\n",
       "\n",
       "    .dataframe thead th {\n",
       "        text-align: right;\n",
       "    }\n",
       "</style>\n",
       "<table border=\"1\" class=\"dataframe\">\n",
       "  <thead>\n",
       "    <tr style=\"text-align: right;\">\n",
       "      <th></th>\n",
       "      <th>DateCrawled</th>\n",
       "      <th>Price</th>\n",
       "      <th>VehicleType</th>\n",
       "      <th>RegistrationYear</th>\n",
       "      <th>Gearbox</th>\n",
       "      <th>Power</th>\n",
       "      <th>Model</th>\n",
       "      <th>Mileage</th>\n",
       "      <th>RegistrationMonth</th>\n",
       "      <th>FuelType</th>\n",
       "      <th>Brand</th>\n",
       "      <th>NotRepaired</th>\n",
       "      <th>DateCreated</th>\n",
       "      <th>NumberOfPictures</th>\n",
       "      <th>PostalCode</th>\n",
       "      <th>LastSeen</th>\n",
       "    </tr>\n",
       "  </thead>\n",
       "  <tbody>\n",
       "    <tr>\n",
       "      <td>0</td>\n",
       "      <td>24/03/2016 11:52</td>\n",
       "      <td>480</td>\n",
       "      <td>NaN</td>\n",
       "      <td>1993</td>\n",
       "      <td>manual</td>\n",
       "      <td>0</td>\n",
       "      <td>golf</td>\n",
       "      <td>150000</td>\n",
       "      <td>0</td>\n",
       "      <td>petrol</td>\n",
       "      <td>volkswagen</td>\n",
       "      <td>NaN</td>\n",
       "      <td>24/03/2016 00:00</td>\n",
       "      <td>0</td>\n",
       "      <td>70435</td>\n",
       "      <td>07/04/2016 03:16</td>\n",
       "    </tr>\n",
       "    <tr>\n",
       "      <td>1</td>\n",
       "      <td>24/03/2016 10:58</td>\n",
       "      <td>18300</td>\n",
       "      <td>coupe</td>\n",
       "      <td>2011</td>\n",
       "      <td>manual</td>\n",
       "      <td>190</td>\n",
       "      <td>NaN</td>\n",
       "      <td>125000</td>\n",
       "      <td>5</td>\n",
       "      <td>gasoline</td>\n",
       "      <td>audi</td>\n",
       "      <td>yes</td>\n",
       "      <td>24/03/2016 00:00</td>\n",
       "      <td>0</td>\n",
       "      <td>66954</td>\n",
       "      <td>07/04/2016 01:46</td>\n",
       "    </tr>\n",
       "    <tr>\n",
       "      <td>2</td>\n",
       "      <td>14/03/2016 12:52</td>\n",
       "      <td>9800</td>\n",
       "      <td>suv</td>\n",
       "      <td>2004</td>\n",
       "      <td>auto</td>\n",
       "      <td>163</td>\n",
       "      <td>grand</td>\n",
       "      <td>125000</td>\n",
       "      <td>8</td>\n",
       "      <td>gasoline</td>\n",
       "      <td>jeep</td>\n",
       "      <td>NaN</td>\n",
       "      <td>14/03/2016 00:00</td>\n",
       "      <td>0</td>\n",
       "      <td>90480</td>\n",
       "      <td>05/04/2016 12:47</td>\n",
       "    </tr>\n",
       "    <tr>\n",
       "      <td>3</td>\n",
       "      <td>17/03/2016 16:54</td>\n",
       "      <td>1500</td>\n",
       "      <td>small</td>\n",
       "      <td>2001</td>\n",
       "      <td>manual</td>\n",
       "      <td>75</td>\n",
       "      <td>golf</td>\n",
       "      <td>150000</td>\n",
       "      <td>6</td>\n",
       "      <td>petrol</td>\n",
       "      <td>volkswagen</td>\n",
       "      <td>no</td>\n",
       "      <td>17/03/2016 00:00</td>\n",
       "      <td>0</td>\n",
       "      <td>91074</td>\n",
       "      <td>17/03/2016 17:40</td>\n",
       "    </tr>\n",
       "    <tr>\n",
       "      <td>4</td>\n",
       "      <td>31/03/2016 17:25</td>\n",
       "      <td>3600</td>\n",
       "      <td>small</td>\n",
       "      <td>2008</td>\n",
       "      <td>manual</td>\n",
       "      <td>69</td>\n",
       "      <td>fabia</td>\n",
       "      <td>90000</td>\n",
       "      <td>7</td>\n",
       "      <td>gasoline</td>\n",
       "      <td>skoda</td>\n",
       "      <td>no</td>\n",
       "      <td>31/03/2016 00:00</td>\n",
       "      <td>0</td>\n",
       "      <td>60437</td>\n",
       "      <td>06/04/2016 10:17</td>\n",
       "    </tr>\n",
       "  </tbody>\n",
       "</table>\n",
       "</div>"
      ],
      "text/plain": [
       "        DateCrawled  Price VehicleType  RegistrationYear Gearbox  Power  \\\n",
       "0  24/03/2016 11:52    480         NaN              1993  manual      0   \n",
       "1  24/03/2016 10:58  18300       coupe              2011  manual    190   \n",
       "2  14/03/2016 12:52   9800         suv              2004    auto    163   \n",
       "3  17/03/2016 16:54   1500       small              2001  manual     75   \n",
       "4  31/03/2016 17:25   3600       small              2008  manual     69   \n",
       "\n",
       "   Model  Mileage  RegistrationMonth  FuelType       Brand NotRepaired  \\\n",
       "0   golf   150000                  0    petrol  volkswagen         NaN   \n",
       "1    NaN   125000                  5  gasoline        audi         yes   \n",
       "2  grand   125000                  8  gasoline        jeep         NaN   \n",
       "3   golf   150000                  6    petrol  volkswagen          no   \n",
       "4  fabia    90000                  7  gasoline       skoda          no   \n",
       "\n",
       "        DateCreated  NumberOfPictures  PostalCode          LastSeen  \n",
       "0  24/03/2016 00:00                 0       70435  07/04/2016 03:16  \n",
       "1  24/03/2016 00:00                 0       66954  07/04/2016 01:46  \n",
       "2  14/03/2016 00:00                 0       90480  05/04/2016 12:47  \n",
       "3  17/03/2016 00:00                 0       91074  17/03/2016 17:40  \n",
       "4  31/03/2016 00:00                 0       60437  06/04/2016 10:17  "
      ]
     },
     "metadata": {},
     "output_type": "display_data"
    },
    {
     "name": "stdout",
     "output_type": "stream",
     "text": [
      "--End--\n",
      "\n",
      "Info:\n",
      "<class 'pandas.core.frame.DataFrame'>\n",
      "RangeIndex: 354369 entries, 0 to 354368\n",
      "Data columns (total 16 columns):\n",
      "DateCrawled          354369 non-null object\n",
      "Price                354369 non-null int64\n",
      "VehicleType          316879 non-null object\n",
      "RegistrationYear     354369 non-null int64\n",
      "Gearbox              334536 non-null object\n",
      "Power                354369 non-null int64\n",
      "Model                334664 non-null object\n",
      "Mileage              354369 non-null int64\n",
      "RegistrationMonth    354369 non-null int64\n",
      "FuelType             321474 non-null object\n",
      "Brand                354369 non-null object\n",
      "NotRepaired          283215 non-null object\n",
      "DateCreated          354369 non-null object\n",
      "NumberOfPictures     354369 non-null int64\n",
      "PostalCode           354369 non-null int64\n",
      "LastSeen             354369 non-null object\n",
      "dtypes: int64(7), object(9)\n",
      "memory usage: 43.3+ MB\n"
     ]
    },
    {
     "data": {
      "text/plain": [
       "None"
      ]
     },
     "metadata": {},
     "output_type": "display_data"
    },
    {
     "name": "stdout",
     "output_type": "stream",
     "text": [
      "--End--\n",
      "\n",
      "Isnull:\n"
     ]
    },
    {
     "data": {
      "text/plain": [
       "DateCrawled          0.000000\n",
       "Price                0.000000\n",
       "VehicleType          0.105794\n",
       "RegistrationYear     0.000000\n",
       "Gearbox              0.055967\n",
       "Power                0.000000\n",
       "Model                0.055606\n",
       "Mileage              0.000000\n",
       "RegistrationMonth    0.000000\n",
       "FuelType             0.092827\n",
       "Brand                0.000000\n",
       "NotRepaired          0.200791\n",
       "DateCreated          0.000000\n",
       "NumberOfPictures     0.000000\n",
       "PostalCode           0.000000\n",
       "LastSeen             0.000000\n",
       "dtype: float64"
      ]
     },
     "metadata": {},
     "output_type": "display_data"
    },
    {
     "name": "stdout",
     "output_type": "stream",
     "text": [
      "--End--\n",
      "\n",
      "Duplicates:\n"
     ]
    },
    {
     "data": {
      "text/plain": [
       "262"
      ]
     },
     "metadata": {},
     "output_type": "display_data"
    },
    {
     "name": "stdout",
     "output_type": "stream",
     "text": [
      "--End--\n",
      "\n",
      "Describe:\n",
      "               Price  RegistrationYear          Power        Mileage  \\\n",
      "count  354369.000000     354369.000000  354369.000000  354369.000000   \n",
      "mean     4416.656776       2004.234448     110.094337  128211.172535   \n",
      "std      4514.158514         90.227958     189.850405   37905.341530   \n",
      "min         0.000000       1000.000000       0.000000    5000.000000   \n",
      "25%      1050.000000       1999.000000      69.000000  125000.000000   \n",
      "50%      2700.000000       2003.000000     105.000000  150000.000000   \n",
      "75%      6400.000000       2008.000000     143.000000  150000.000000   \n",
      "max     20000.000000       9999.000000   20000.000000  150000.000000   \n",
      "\n",
      "       RegistrationMonth  NumberOfPictures     PostalCode  \n",
      "count      354369.000000          354369.0  354369.000000  \n",
      "mean            5.714645               0.0   50508.689087  \n",
      "std             3.726421               0.0   25783.096248  \n",
      "min             0.000000               0.0    1067.000000  \n",
      "25%             3.000000               0.0   30165.000000  \n",
      "50%             6.000000               0.0   49413.000000  \n",
      "75%             9.000000               0.0   71083.000000  \n",
      "max            12.000000               0.0   99998.000000  \n"
     ]
    }
   ],
   "source": [
    "data_info(rust_df)"
   ]
  },
  {
   "cell_type": "markdown",
   "metadata": {},
   "source": [
    "There are some missing and duplicates values in the dataset. With some missing values being as high as 20% of the column. The description of the data also shows some outliers in registration year and power. "
   ]
  },
  {
   "cell_type": "code",
   "execution_count": 5,
   "metadata": {},
   "outputs": [],
   "source": [
    "rust_df.columns =rust_df.columns.str.lower()"
   ]
  },
  {
   "cell_type": "code",
   "execution_count": 6,
   "metadata": {},
   "outputs": [],
   "source": [
    "# dropping these columns \n",
    "rust_df= rust_df.drop(['datecrawled','datecreated','postalcode','lastseen'],axis=1)"
   ]
  },
  {
   "cell_type": "code",
   "execution_count": 7,
   "metadata": {},
   "outputs": [],
   "source": [
    "rust_df = rust_df.query('registrationyear >=1980 and registrationyear <= 2021')"
   ]
  },
  {
   "cell_type": "code",
   "execution_count": 8,
   "metadata": {},
   "outputs": [
    {
     "data": {
      "text/html": [
       "<div>\n",
       "<style scoped>\n",
       "    .dataframe tbody tr th:only-of-type {\n",
       "        vertical-align: middle;\n",
       "    }\n",
       "\n",
       "    .dataframe tbody tr th {\n",
       "        vertical-align: top;\n",
       "    }\n",
       "\n",
       "    .dataframe thead th {\n",
       "        text-align: right;\n",
       "    }\n",
       "</style>\n",
       "<table border=\"1\" class=\"dataframe\">\n",
       "  <thead>\n",
       "    <tr style=\"text-align: right;\">\n",
       "      <th></th>\n",
       "      <th>price</th>\n",
       "      <th>registrationyear</th>\n",
       "      <th>power</th>\n",
       "      <th>mileage</th>\n",
       "      <th>registrationmonth</th>\n",
       "      <th>numberofpictures</th>\n",
       "    </tr>\n",
       "  </thead>\n",
       "  <tbody>\n",
       "    <tr>\n",
       "      <td>count</td>\n",
       "      <td>350812.000000</td>\n",
       "      <td>350812.000000</td>\n",
       "      <td>350812.000000</td>\n",
       "      <td>350812.000000</td>\n",
       "      <td>350812.000000</td>\n",
       "      <td>350812.0</td>\n",
       "    </tr>\n",
       "    <tr>\n",
       "      <td>mean</td>\n",
       "      <td>4394.089045</td>\n",
       "      <td>2003.423021</td>\n",
       "      <td>110.418603</td>\n",
       "      <td>128679.492150</td>\n",
       "      <td>5.730095</td>\n",
       "      <td>0.0</td>\n",
       "    </tr>\n",
       "    <tr>\n",
       "      <td>std</td>\n",
       "      <td>4494.818733</td>\n",
       "      <td>6.611317</td>\n",
       "      <td>188.270170</td>\n",
       "      <td>37415.776776</td>\n",
       "      <td>3.725047</td>\n",
       "      <td>0.0</td>\n",
       "    </tr>\n",
       "    <tr>\n",
       "      <td>min</td>\n",
       "      <td>0.000000</td>\n",
       "      <td>1980.000000</td>\n",
       "      <td>0.000000</td>\n",
       "      <td>5000.000000</td>\n",
       "      <td>0.000000</td>\n",
       "      <td>0.0</td>\n",
       "    </tr>\n",
       "    <tr>\n",
       "      <td>25%</td>\n",
       "      <td>1050.000000</td>\n",
       "      <td>1999.000000</td>\n",
       "      <td>69.000000</td>\n",
       "      <td>125000.000000</td>\n",
       "      <td>3.000000</td>\n",
       "      <td>0.0</td>\n",
       "    </tr>\n",
       "    <tr>\n",
       "      <td>50%</td>\n",
       "      <td>2700.000000</td>\n",
       "      <td>2003.000000</td>\n",
       "      <td>105.000000</td>\n",
       "      <td>150000.000000</td>\n",
       "      <td>6.000000</td>\n",
       "      <td>0.0</td>\n",
       "    </tr>\n",
       "    <tr>\n",
       "      <td>75%</td>\n",
       "      <td>6300.000000</td>\n",
       "      <td>2008.000000</td>\n",
       "      <td>143.000000</td>\n",
       "      <td>150000.000000</td>\n",
       "      <td>9.000000</td>\n",
       "      <td>0.0</td>\n",
       "    </tr>\n",
       "    <tr>\n",
       "      <td>max</td>\n",
       "      <td>20000.000000</td>\n",
       "      <td>2019.000000</td>\n",
       "      <td>20000.000000</td>\n",
       "      <td>150000.000000</td>\n",
       "      <td>12.000000</td>\n",
       "      <td>0.0</td>\n",
       "    </tr>\n",
       "  </tbody>\n",
       "</table>\n",
       "</div>"
      ],
      "text/plain": [
       "               price  registrationyear          power        mileage  \\\n",
       "count  350812.000000     350812.000000  350812.000000  350812.000000   \n",
       "mean     4394.089045       2003.423021     110.418603  128679.492150   \n",
       "std      4494.818733          6.611317     188.270170   37415.776776   \n",
       "min         0.000000       1980.000000       0.000000    5000.000000   \n",
       "25%      1050.000000       1999.000000      69.000000  125000.000000   \n",
       "50%      2700.000000       2003.000000     105.000000  150000.000000   \n",
       "75%      6300.000000       2008.000000     143.000000  150000.000000   \n",
       "max     20000.000000       2019.000000   20000.000000  150000.000000   \n",
       "\n",
       "       registrationmonth  numberofpictures  \n",
       "count      350812.000000          350812.0  \n",
       "mean            5.730095               0.0  \n",
       "std             3.725047               0.0  \n",
       "min             0.000000               0.0  \n",
       "25%             3.000000               0.0  \n",
       "50%             6.000000               0.0  \n",
       "75%             9.000000               0.0  \n",
       "max            12.000000               0.0  "
      ]
     },
     "execution_count": 8,
     "metadata": {},
     "output_type": "execute_result"
    }
   ],
   "source": [
    "rust_df.describe()"
   ]
  },
  {
   "cell_type": "code",
   "execution_count": 9,
   "metadata": {},
   "outputs": [
    {
     "data": {
      "text/plain": [
       "price                0.000000\n",
       "vehicletype          0.105316\n",
       "registrationyear     0.000000\n",
       "gearbox              0.054149\n",
       "power                0.000000\n",
       "model                0.053553\n",
       "mileage              0.000000\n",
       "registrationmonth    0.000000\n",
       "fueltype             0.091428\n",
       "brand                0.000000\n",
       "notrepaired          0.199295\n",
       "numberofpictures     0.000000\n",
       "dtype: float64"
      ]
     },
     "execution_count": 9,
     "metadata": {},
     "output_type": "execute_result"
    }
   ],
   "source": [
    "rust_df.isnull().sum()/rust_df.shape[0]"
   ]
  },
  {
   "cell_type": "code",
   "execution_count": 10,
   "metadata": {},
   "outputs": [],
   "source": [
    "cols = rust_df.columns\n",
    "for col in rust_df[cols].select_dtypes('object').columns:\n",
    "    rust_df.loc[rust_df[col].isna(),col]='None'"
   ]
  },
  {
   "cell_type": "code",
   "execution_count": 11,
   "metadata": {},
   "outputs": [
    {
     "data": {
      "text/plain": [
       "price                0.0\n",
       "vehicletype          0.0\n",
       "registrationyear     0.0\n",
       "gearbox              0.0\n",
       "power                0.0\n",
       "model                0.0\n",
       "mileage              0.0\n",
       "registrationmonth    0.0\n",
       "fueltype             0.0\n",
       "brand                0.0\n",
       "notrepaired          0.0\n",
       "numberofpictures     0.0\n",
       "dtype: float64"
      ]
     },
     "execution_count": 11,
     "metadata": {},
     "output_type": "execute_result"
    }
   ],
   "source": [
    "rust_df.isnull().sum()/rust_df.shape[0]"
   ]
  },
  {
   "cell_type": "code",
   "execution_count": 12,
   "metadata": {},
   "outputs": [
    {
     "data": {
      "image/png": "[encoded data removed]",
      "text/plain": [
       "<Figure size 1080x1080 with 42 Axes>"
      ]
     },
     "metadata": {
      "needs_background": "light"
     },
     "output_type": "display_data"
    }
   ],
   "source": [
    "sb.pairplot(rust_df);"
   ]
  },
  {
   "cell_type": "code",
   "execution_count": 13,
   "metadata": {},
   "outputs": [
    {
     "data": {
      "text/html": [
       "<div>\n",
       "<style scoped>\n",
       "    .dataframe tbody tr th:only-of-type {\n",
       "        vertical-align: middle;\n",
       "    }\n",
       "\n",
       "    .dataframe tbody tr th {\n",
       "        vertical-align: top;\n",
       "    }\n",
       "\n",
       "    .dataframe thead th {\n",
       "        text-align: right;\n",
       "    }\n",
       "</style>\n",
       "<table border=\"1\" class=\"dataframe\">\n",
       "  <thead>\n",
       "    <tr style=\"text-align: right;\">\n",
       "      <th></th>\n",
       "      <th>price</th>\n",
       "      <th>registrationyear</th>\n",
       "      <th>power</th>\n",
       "      <th>mileage</th>\n",
       "      <th>registrationmonth</th>\n",
       "      <th>numberofpictures</th>\n",
       "    </tr>\n",
       "  </thead>\n",
       "  <tbody>\n",
       "    <tr>\n",
       "      <td>price</td>\n",
       "      <td>1.000000</td>\n",
       "      <td>0.451243</td>\n",
       "      <td>0.161994</td>\n",
       "      <td>-0.337664</td>\n",
       "      <td>0.111346</td>\n",
       "      <td>NaN</td>\n",
       "    </tr>\n",
       "    <tr>\n",
       "      <td>registrationyear</td>\n",
       "      <td>0.451243</td>\n",
       "      <td>1.000000</td>\n",
       "      <td>0.031756</td>\n",
       "      <td>-0.261632</td>\n",
       "      <td>0.034248</td>\n",
       "      <td>NaN</td>\n",
       "    </tr>\n",
       "    <tr>\n",
       "      <td>power</td>\n",
       "      <td>0.161994</td>\n",
       "      <td>0.031756</td>\n",
       "      <td>1.000000</td>\n",
       "      <td>0.021465</td>\n",
       "      <td>0.042437</td>\n",
       "      <td>NaN</td>\n",
       "    </tr>\n",
       "    <tr>\n",
       "      <td>mileage</td>\n",
       "      <td>-0.337664</td>\n",
       "      <td>-0.261632</td>\n",
       "      <td>0.021465</td>\n",
       "      <td>1.000000</td>\n",
       "      <td>0.002816</td>\n",
       "      <td>NaN</td>\n",
       "    </tr>\n",
       "    <tr>\n",
       "      <td>registrationmonth</td>\n",
       "      <td>0.111346</td>\n",
       "      <td>0.034248</td>\n",
       "      <td>0.042437</td>\n",
       "      <td>0.002816</td>\n",
       "      <td>1.000000</td>\n",
       "      <td>NaN</td>\n",
       "    </tr>\n",
       "    <tr>\n",
       "      <td>numberofpictures</td>\n",
       "      <td>NaN</td>\n",
       "      <td>NaN</td>\n",
       "      <td>NaN</td>\n",
       "      <td>NaN</td>\n",
       "      <td>NaN</td>\n",
       "      <td>NaN</td>\n",
       "    </tr>\n",
       "  </tbody>\n",
       "</table>\n",
       "</div>"
      ],
      "text/plain": [
       "                      price  registrationyear     power   mileage  \\\n",
       "price              1.000000          0.451243  0.161994 -0.337664   \n",
       "registrationyear   0.451243          1.000000  0.031756 -0.261632   \n",
       "power              0.161994          0.031756  1.000000  0.021465   \n",
       "mileage           -0.337664         -0.261632  0.021465  1.000000   \n",
       "registrationmonth  0.111346          0.034248  0.042437  0.002816   \n",
       "numberofpictures        NaN               NaN       NaN       NaN   \n",
       "\n",
       "                   registrationmonth  numberofpictures  \n",
       "price                       0.111346               NaN  \n",
       "registrationyear            0.034248               NaN  \n",
       "power                       0.042437               NaN  \n",
       "mileage                     0.002816               NaN  \n",
       "registrationmonth           1.000000               NaN  \n",
       "numberofpictures                 NaN               NaN  "
      ]
     },
     "execution_count": 13,
     "metadata": {},
     "output_type": "execute_result"
    }
   ],
   "source": [
    "rust_df_corr = rust_df.corr()\n",
    "rust_df_corr"
   ]
  },
  {
   "cell_type": "markdown",
   "metadata": {},
   "source": [
    "# Conclusion\n",
    "All the columns with null values have been filled with none as there are no clear approach to filling them in and attempt to drop them would reduce the data volumn dratically. Secondly, The registration year column has also been filtered out for cars between 1980 and 2020 thereby removing all outliers for the column.\n",
    "\n",
    "Registration year has a positive moderate correlation with price as against mileage with a negative correlation. "
   ]
  },
  {
   "cell_type": "markdown",
   "metadata": {},
   "source": [
    "## Model training"
   ]
  },
  {
   "cell_type": "code",
   "execution_count": 14,
   "metadata": {},
   "outputs": [
    {
     "data": {
      "image/png": "[encoded data removed]",
      "text/plain": [
       "<Figure size 720x504 with 1 Axes>"
      ]
     },
     "metadata": {
      "needs_background": "light"
     },
     "output_type": "display_data"
    }
   ],
   "source": [
    "rust_df.nunique().sort_values().plot(kind='bar',figsize=(10,7))\n",
    "plt.title('Summary plot of unique values in columns')\n",
    "plt.ylabel('Count');"
   ]
  },
  {
   "cell_type": "code",
   "execution_count": 15,
   "metadata": {},
   "outputs": [],
   "source": [
    "feature_categorical = [\n",
    "    'vehicletype',\n",
    "    'gearbox',\n",
    "    'model',\n",
    "    'fueltype','brand',\n",
    "    'notrepaired']"
   ]
  },
  {
   "cell_type": "code",
   "execution_count": 16,
   "metadata": {},
   "outputs": [
    {
     "data": {
      "text/html": [
       "<div>\n",
       "<style scoped>\n",
       "    .dataframe tbody tr th:only-of-type {\n",
       "        vertical-align: middle;\n",
       "    }\n",
       "\n",
       "    .dataframe tbody tr th {\n",
       "        vertical-align: top;\n",
       "    }\n",
       "\n",
       "    .dataframe thead th {\n",
       "        text-align: right;\n",
       "    }\n",
       "</style>\n",
       "<table border=\"1\" class=\"dataframe\">\n",
       "  <thead>\n",
       "    <tr style=\"text-align: right;\">\n",
       "      <th></th>\n",
       "      <th>price</th>\n",
       "      <th>vehicletype</th>\n",
       "      <th>registrationyear</th>\n",
       "      <th>gearbox</th>\n",
       "      <th>power</th>\n",
       "      <th>model</th>\n",
       "      <th>mileage</th>\n",
       "      <th>registrationmonth</th>\n",
       "      <th>fueltype</th>\n",
       "      <th>brand</th>\n",
       "      <th>notrepaired</th>\n",
       "      <th>numberofpictures</th>\n",
       "    </tr>\n",
       "  </thead>\n",
       "  <tbody>\n",
       "    <tr>\n",
       "      <td>0</td>\n",
       "      <td>480</td>\n",
       "      <td>None</td>\n",
       "      <td>1993</td>\n",
       "      <td>manual</td>\n",
       "      <td>0</td>\n",
       "      <td>golf</td>\n",
       "      <td>150000</td>\n",
       "      <td>0</td>\n",
       "      <td>petrol</td>\n",
       "      <td>volkswagen</td>\n",
       "      <td>None</td>\n",
       "      <td>0</td>\n",
       "    </tr>\n",
       "    <tr>\n",
       "      <td>1</td>\n",
       "      <td>18300</td>\n",
       "      <td>coupe</td>\n",
       "      <td>2011</td>\n",
       "      <td>manual</td>\n",
       "      <td>190</td>\n",
       "      <td>None</td>\n",
       "      <td>125000</td>\n",
       "      <td>5</td>\n",
       "      <td>gasoline</td>\n",
       "      <td>audi</td>\n",
       "      <td>yes</td>\n",
       "      <td>0</td>\n",
       "    </tr>\n",
       "    <tr>\n",
       "      <td>2</td>\n",
       "      <td>9800</td>\n",
       "      <td>suv</td>\n",
       "      <td>2004</td>\n",
       "      <td>auto</td>\n",
       "      <td>163</td>\n",
       "      <td>grand</td>\n",
       "      <td>125000</td>\n",
       "      <td>8</td>\n",
       "      <td>gasoline</td>\n",
       "      <td>jeep</td>\n",
       "      <td>None</td>\n",
       "      <td>0</td>\n",
       "    </tr>\n",
       "    <tr>\n",
       "      <td>3</td>\n",
       "      <td>1500</td>\n",
       "      <td>small</td>\n",
       "      <td>2001</td>\n",
       "      <td>manual</td>\n",
       "      <td>75</td>\n",
       "      <td>golf</td>\n",
       "      <td>150000</td>\n",
       "      <td>6</td>\n",
       "      <td>petrol</td>\n",
       "      <td>volkswagen</td>\n",
       "      <td>no</td>\n",
       "      <td>0</td>\n",
       "    </tr>\n",
       "    <tr>\n",
       "      <td>4</td>\n",
       "      <td>3600</td>\n",
       "      <td>small</td>\n",
       "      <td>2008</td>\n",
       "      <td>manual</td>\n",
       "      <td>69</td>\n",
       "      <td>fabia</td>\n",
       "      <td>90000</td>\n",
       "      <td>7</td>\n",
       "      <td>gasoline</td>\n",
       "      <td>skoda</td>\n",
       "      <td>no</td>\n",
       "      <td>0</td>\n",
       "    </tr>\n",
       "  </tbody>\n",
       "</table>\n",
       "</div>"
      ],
      "text/plain": [
       "   price vehicletype  registrationyear gearbox  power  model  mileage  \\\n",
       "0    480        None              1993  manual      0   golf   150000   \n",
       "1  18300       coupe              2011  manual    190   None   125000   \n",
       "2   9800         suv              2004    auto    163  grand   125000   \n",
       "3   1500       small              2001  manual     75   golf   150000   \n",
       "4   3600       small              2008  manual     69  fabia    90000   \n",
       "\n",
       "   registrationmonth  fueltype       brand notrepaired  numberofpictures  \n",
       "0                  0    petrol  volkswagen        None                 0  \n",
       "1                  5  gasoline        audi         yes                 0  \n",
       "2                  8  gasoline        jeep        None                 0  \n",
       "3                  6    petrol  volkswagen          no                 0  \n",
       "4                  7  gasoline       skoda          no                 0  "
      ]
     },
     "execution_count": 16,
     "metadata": {},
     "output_type": "execute_result"
    }
   ],
   "source": [
    "rust_df.head()"
   ]
  },
  {
   "cell_type": "code",
   "execution_count": 17,
   "metadata": {},
   "outputs": [
    {
     "data": {
      "text/html": [
       "<div>\n",
       "<style scoped>\n",
       "    .dataframe tbody tr th:only-of-type {\n",
       "        vertical-align: middle;\n",
       "    }\n",
       "\n",
       "    .dataframe tbody tr th {\n",
       "        vertical-align: top;\n",
       "    }\n",
       "\n",
       "    .dataframe thead th {\n",
       "        text-align: right;\n",
       "    }\n",
       "</style>\n",
       "<table border=\"1\" class=\"dataframe\">\n",
       "  <thead>\n",
       "    <tr style=\"text-align: right;\">\n",
       "      <th></th>\n",
       "      <th>price</th>\n",
       "      <th>vehicletype</th>\n",
       "      <th>registrationyear</th>\n",
       "      <th>gearbox</th>\n",
       "      <th>power</th>\n",
       "      <th>model</th>\n",
       "      <th>mileage</th>\n",
       "      <th>registrationmonth</th>\n",
       "      <th>fueltype</th>\n",
       "      <th>brand</th>\n",
       "      <th>notrepaired</th>\n",
       "      <th>numberofpictures</th>\n",
       "    </tr>\n",
       "  </thead>\n",
       "  <tbody>\n",
       "    <tr>\n",
       "      <td>0</td>\n",
       "      <td>480</td>\n",
       "      <td>0.0</td>\n",
       "      <td>1993</td>\n",
       "      <td>2.0</td>\n",
       "      <td>0</td>\n",
       "      <td>117.0</td>\n",
       "      <td>150000</td>\n",
       "      <td>0</td>\n",
       "      <td>7.0</td>\n",
       "      <td>38.0</td>\n",
       "      <td>0.0</td>\n",
       "      <td>0</td>\n",
       "    </tr>\n",
       "    <tr>\n",
       "      <td>1</td>\n",
       "      <td>18300</td>\n",
       "      <td>3.0</td>\n",
       "      <td>2011</td>\n",
       "      <td>2.0</td>\n",
       "      <td>190</td>\n",
       "      <td>26.0</td>\n",
       "      <td>125000</td>\n",
       "      <td>5</td>\n",
       "      <td>3.0</td>\n",
       "      <td>1.0</td>\n",
       "      <td>2.0</td>\n",
       "      <td>0</td>\n",
       "    </tr>\n",
       "    <tr>\n",
       "      <td>2</td>\n",
       "      <td>9800</td>\n",
       "      <td>7.0</td>\n",
       "      <td>2004</td>\n",
       "      <td>1.0</td>\n",
       "      <td>163</td>\n",
       "      <td>118.0</td>\n",
       "      <td>125000</td>\n",
       "      <td>8</td>\n",
       "      <td>3.0</td>\n",
       "      <td>14.0</td>\n",
       "      <td>0.0</td>\n",
       "      <td>0</td>\n",
       "    </tr>\n",
       "    <tr>\n",
       "      <td>3</td>\n",
       "      <td>1500</td>\n",
       "      <td>6.0</td>\n",
       "      <td>2001</td>\n",
       "      <td>2.0</td>\n",
       "      <td>75</td>\n",
       "      <td>117.0</td>\n",
       "      <td>150000</td>\n",
       "      <td>6</td>\n",
       "      <td>7.0</td>\n",
       "      <td>38.0</td>\n",
       "      <td>1.0</td>\n",
       "      <td>0</td>\n",
       "    </tr>\n",
       "    <tr>\n",
       "      <td>4</td>\n",
       "      <td>3600</td>\n",
       "      <td>6.0</td>\n",
       "      <td>2008</td>\n",
       "      <td>2.0</td>\n",
       "      <td>69</td>\n",
       "      <td>102.0</td>\n",
       "      <td>90000</td>\n",
       "      <td>7</td>\n",
       "      <td>3.0</td>\n",
       "      <td>31.0</td>\n",
       "      <td>1.0</td>\n",
       "      <td>0</td>\n",
       "    </tr>\n",
       "    <tr>\n",
       "      <td>...</td>\n",
       "      <td>...</td>\n",
       "      <td>...</td>\n",
       "      <td>...</td>\n",
       "      <td>...</td>\n",
       "      <td>...</td>\n",
       "      <td>...</td>\n",
       "      <td>...</td>\n",
       "      <td>...</td>\n",
       "      <td>...</td>\n",
       "      <td>...</td>\n",
       "      <td>...</td>\n",
       "      <td>...</td>\n",
       "    </tr>\n",
       "    <tr>\n",
       "      <td>354364</td>\n",
       "      <td>0</td>\n",
       "      <td>0.0</td>\n",
       "      <td>2005</td>\n",
       "      <td>2.0</td>\n",
       "      <td>0</td>\n",
       "      <td>79.0</td>\n",
       "      <td>150000</td>\n",
       "      <td>7</td>\n",
       "      <td>7.0</td>\n",
       "      <td>22.0</td>\n",
       "      <td>2.0</td>\n",
       "      <td>0</td>\n",
       "    </tr>\n",
       "    <tr>\n",
       "      <td>354365</td>\n",
       "      <td>2200</td>\n",
       "      <td>0.0</td>\n",
       "      <td>2005</td>\n",
       "      <td>0.0</td>\n",
       "      <td>0</td>\n",
       "      <td>26.0</td>\n",
       "      <td>20000</td>\n",
       "      <td>1</td>\n",
       "      <td>0.0</td>\n",
       "      <td>33.0</td>\n",
       "      <td>0.0</td>\n",
       "      <td>0</td>\n",
       "    </tr>\n",
       "    <tr>\n",
       "      <td>354366</td>\n",
       "      <td>1199</td>\n",
       "      <td>2.0</td>\n",
       "      <td>2000</td>\n",
       "      <td>1.0</td>\n",
       "      <td>101</td>\n",
       "      <td>107.0</td>\n",
       "      <td>125000</td>\n",
       "      <td>3</td>\n",
       "      <td>7.0</td>\n",
       "      <td>32.0</td>\n",
       "      <td>1.0</td>\n",
       "      <td>0</td>\n",
       "    </tr>\n",
       "    <tr>\n",
       "      <td>354367</td>\n",
       "      <td>9200</td>\n",
       "      <td>1.0</td>\n",
       "      <td>1996</td>\n",
       "      <td>2.0</td>\n",
       "      <td>102</td>\n",
       "      <td>224.0</td>\n",
       "      <td>150000</td>\n",
       "      <td>3</td>\n",
       "      <td>3.0</td>\n",
       "      <td>38.0</td>\n",
       "      <td>1.0</td>\n",
       "      <td>0</td>\n",
       "    </tr>\n",
       "    <tr>\n",
       "      <td>354368</td>\n",
       "      <td>3400</td>\n",
       "      <td>8.0</td>\n",
       "      <td>2002</td>\n",
       "      <td>2.0</td>\n",
       "      <td>100</td>\n",
       "      <td>117.0</td>\n",
       "      <td>150000</td>\n",
       "      <td>6</td>\n",
       "      <td>3.0</td>\n",
       "      <td>38.0</td>\n",
       "      <td>0.0</td>\n",
       "      <td>0</td>\n",
       "    </tr>\n",
       "  </tbody>\n",
       "</table>\n",
       "<p>350812 rows × 12 columns</p>\n",
       "</div>"
      ],
      "text/plain": [
       "        price  vehicletype  registrationyear  gearbox  power  model  mileage  \\\n",
       "0         480          0.0              1993      2.0      0  117.0   150000   \n",
       "1       18300          3.0              2011      2.0    190   26.0   125000   \n",
       "2        9800          7.0              2004      1.0    163  118.0   125000   \n",
       "3        1500          6.0              2001      2.0     75  117.0   150000   \n",
       "4        3600          6.0              2008      2.0     69  102.0    90000   \n",
       "...       ...          ...               ...      ...    ...    ...      ...   \n",
       "354364      0          0.0              2005      2.0      0   79.0   150000   \n",
       "354365   2200          0.0              2005      0.0      0   26.0    20000   \n",
       "354366   1199          2.0              2000      1.0    101  107.0   125000   \n",
       "354367   9200          1.0              1996      2.0    102  224.0   150000   \n",
       "354368   3400          8.0              2002      2.0    100  117.0   150000   \n",
       "\n",
       "        registrationmonth  fueltype  brand  notrepaired  numberofpictures  \n",
       "0                       0       7.0   38.0          0.0                 0  \n",
       "1                       5       3.0    1.0          2.0                 0  \n",
       "2                       8       3.0   14.0          0.0                 0  \n",
       "3                       6       7.0   38.0          1.0                 0  \n",
       "4                       7       3.0   31.0          1.0                 0  \n",
       "...                   ...       ...    ...          ...               ...  \n",
       "354364                  7       7.0   22.0          2.0                 0  \n",
       "354365                  1       0.0   33.0          0.0                 0  \n",
       "354366                  3       7.0   32.0          1.0                 0  \n",
       "354367                  3       3.0   38.0          1.0                 0  \n",
       "354368                  6       3.0   38.0          0.0                 0  \n",
       "\n",
       "[350812 rows x 12 columns]"
      ]
     },
     "execution_count": 17,
     "metadata": {},
     "output_type": "execute_result"
    }
   ],
   "source": [
    "rust_df_ord = rust_df.copy()\n",
    "rust_df_ord[feature_categorical] = OrdinalEncoder().fit_transform(rust_df_ord[feature_categorical])\n",
    "rust_df_ord"
   ]
  },
  {
   "cell_type": "code",
   "execution_count": 18,
   "metadata": {},
   "outputs": [
    {
     "name": "stdout",
     "output_type": "stream",
     "text": [
      "Train = 75.00%\n",
      "Test = 25.00%\n"
     ]
    }
   ],
   "source": [
    "# seperates the features from the target \n",
    "target = rust_df_ord.price\n",
    "features = rust_df_ord.drop('price',axis=1)\n",
    "\n",
    "# spliting of the dataset into train and test sets\n",
    "x_train_ord,x_test_ord,y_train_ord,y_test_ord = train_test_split(features,target,test_size=0.25,random_state=123)\n",
    "\n",
    "# print out the percentage ratio of each set.\n",
    "print(f\"Train = {100*len(x_train_ord)/len(rust_df_ord):.2f}%\")\n",
    "print(f\"Test = {100*len(x_test_ord)/len(rust_df_ord):.2f}%\")"
   ]
  },
  {
   "cell_type": "markdown",
   "metadata": {},
   "source": [
    "## Linear Regression"
   ]
  },
  {
   "cell_type": "code",
   "execution_count": 19,
   "metadata": {},
   "outputs": [
    {
     "name": "stdout",
     "output_type": "stream",
     "text": [
      "RMSE: 3694.39\n",
      "time 0.00980730727314949\n",
      "CPU times: user 162 ms, sys: 107 ms, total: 269 ms\n",
      "Wall time: 271 ms\n"
     ]
    }
   ],
   "source": [
    "%%time\n",
    "linear_reg(x_train_ord, x_test_ord,y_train_ord, y_test_ord)"
   ]
  },
  {
   "cell_type": "markdown",
   "metadata": {},
   "source": [
    "## Decision Tree Regression"
   ]
  },
  {
   "cell_type": "code",
   "execution_count": 20,
   "metadata": {},
   "outputs": [
    {
     "name": "stdout",
     "output_type": "stream",
     "text": [
      "RMSE: 2387.10\n",
      "time 0.006053324788808823\n",
      "CPU times: user 10.7 s, sys: 53 ms, total: 10.8 s\n",
      "Wall time: 10.9 s\n"
     ]
    }
   ],
   "source": [
    "%%time\n",
    "Decisiontree(x_train_ord, x_test_ord,y_train_ord, y_test_ord)"
   ]
  },
  {
   "cell_type": "markdown",
   "metadata": {},
   "source": [
    "## Random Forest Regression"
   ]
  },
  {
   "cell_type": "code",
   "execution_count": 21,
   "metadata": {},
   "outputs": [
    {
     "name": "stdout",
     "output_type": "stream",
     "text": [
      "RMSE: 2327.30\n",
      "time 0.00684332475066185\n",
      "CPU times: user 11min 11s, sys: 416 ms, total: 11min 12s\n",
      "Wall time: 11min 12s\n"
     ]
    }
   ],
   "source": [
    "%%time\n",
    "RandomForestReg(x_train_ord, x_test_ord,y_train_ord, y_test_ord)"
   ]
  },
  {
   "cell_type": "markdown",
   "metadata": {},
   "source": [
    "## Conclusion\n",
    "**Summary Results:** \n",
    "\n",
    "|Model |RMSE |Time|CPU Total time|\n",
    "| ---- |---|---|---|\n",
    "|Linear Regression | 3694.39 |0.010|269ms|\n",
    "|Decision Tree | 2387.10 |0.014|10.8s|\n",
    "|Random Forest | 2327.30| 0.007|11min 12s|\n",
    "\n",
    "\n",
    "The best among these three is random forest in terms of rmse result but with the most time spent training the model."
   ]
  },
  {
   "cell_type": "markdown",
   "metadata": {},
   "source": [
    "## XGBoost"
   ]
  },
  {
   "cell_type": "code",
   "execution_count": 22,
   "metadata": {
    "scrolled": true
   },
   "outputs": [
    {
     "name": "stdout",
     "output_type": "stream",
     "text": [
      "[0]\tvalidation_0-rmse:5753.14\n",
      "[1]\tvalidation_0-rmse:5265.75\n",
      "[2]\tvalidation_0-rmse:4833.67\n",
      "[3]\tvalidation_0-rmse:4452.31\n",
      "[4]\tvalidation_0-rmse:4115.03\n",
      "[5]\tvalidation_0-rmse:3817.54\n",
      "[6]\tvalidation_0-rmse:3556.87\n",
      "[7]\tvalidation_0-rmse:3327.42\n",
      "[8]\tvalidation_0-rmse:3128.47\n",
      "[9]\tvalidation_0-rmse:2956.16\n",
      "[10]\tvalidation_0-rmse:2805.03\n",
      "[11]\tvalidation_0-rmse:2674.48\n",
      "[12]\tvalidation_0-rmse:2562.58\n",
      "[13]\tvalidation_0-rmse:2465.77\n",
      "[14]\tvalidation_0-rmse:2381.72\n",
      "[15]\tvalidation_0-rmse:2306.67\n",
      "[16]\tvalidation_0-rmse:2244.32\n",
      "[17]\tvalidation_0-rmse:2190.94\n",
      "[18]\tvalidation_0-rmse:2145.55\n",
      "[19]\tvalidation_0-rmse:2106.53\n",
      "[20]\tvalidation_0-rmse:2071.43\n",
      "[21]\tvalidation_0-rmse:2041.51\n",
      "[22]\tvalidation_0-rmse:2016.61\n",
      "[23]\tvalidation_0-rmse:1993.87\n",
      "[24]\tvalidation_0-rmse:1971.38\n",
      "[25]\tvalidation_0-rmse:1955.13\n",
      "[26]\tvalidation_0-rmse:1940.58\n",
      "[27]\tvalidation_0-rmse:1925.94\n",
      "[28]\tvalidation_0-rmse:1912.61\n",
      "[29]\tvalidation_0-rmse:1901.77\n",
      "[30]\tvalidation_0-rmse:1889.93\n",
      "[31]\tvalidation_0-rmse:1879.17\n",
      "[32]\tvalidation_0-rmse:1871.2\n",
      "[33]\tvalidation_0-rmse:1863.72\n",
      "[34]\tvalidation_0-rmse:1856.42\n",
      "[35]\tvalidation_0-rmse:1848.25\n",
      "[36]\tvalidation_0-rmse:1840.74\n",
      "[37]\tvalidation_0-rmse:1836.29\n",
      "[38]\tvalidation_0-rmse:1830.53\n",
      "[39]\tvalidation_0-rmse:1826.74\n",
      "[40]\tvalidation_0-rmse:1823.4\n",
      "[41]\tvalidation_0-rmse:1820.34\n",
      "[42]\tvalidation_0-rmse:1817.69\n",
      "[43]\tvalidation_0-rmse:1814.12\n",
      "[44]\tvalidation_0-rmse:1811.32\n",
      "[45]\tvalidation_0-rmse:1809.03\n",
      "[46]\tvalidation_0-rmse:1805.35\n",
      "[47]\tvalidation_0-rmse:1801.1\n",
      "[48]\tvalidation_0-rmse:1798.85\n",
      "[49]\tvalidation_0-rmse:1795.02\n",
      "[50]\tvalidation_0-rmse:1793.26\n",
      "[51]\tvalidation_0-rmse:1790.92\n",
      "[52]\tvalidation_0-rmse:1789.33\n",
      "[53]\tvalidation_0-rmse:1786.26\n",
      "[54]\tvalidation_0-rmse:1784.36\n",
      "[55]\tvalidation_0-rmse:1782.95\n",
      "[56]\tvalidation_0-rmse:1780.35\n",
      "[57]\tvalidation_0-rmse:1778.95\n",
      "[58]\tvalidation_0-rmse:1777.59\n",
      "[59]\tvalidation_0-rmse:1774.97\n",
      "[60]\tvalidation_0-rmse:1774.22\n",
      "[61]\tvalidation_0-rmse:1772.26\n",
      "[62]\tvalidation_0-rmse:1770.79\n",
      "[63]\tvalidation_0-rmse:1768.56\n",
      "[64]\tvalidation_0-rmse:1766.77\n",
      "[65]\tvalidation_0-rmse:1765.85\n",
      "[66]\tvalidation_0-rmse:1764.35\n",
      "[67]\tvalidation_0-rmse:1762.51\n",
      "[68]\tvalidation_0-rmse:1761.08\n",
      "[69]\tvalidation_0-rmse:1760.2\n",
      "[70]\tvalidation_0-rmse:1759.07\n",
      "[71]\tvalidation_0-rmse:1757.91\n",
      "[72]\tvalidation_0-rmse:1755.82\n",
      "[73]\tvalidation_0-rmse:1754.34\n",
      "[74]\tvalidation_0-rmse:1753.41\n",
      "[75]\tvalidation_0-rmse:1752.03\n",
      "[76]\tvalidation_0-rmse:1751.34\n",
      "[77]\tvalidation_0-rmse:1749.84\n",
      "[78]\tvalidation_0-rmse:1747.43\n",
      "[79]\tvalidation_0-rmse:1746\n",
      "[80]\tvalidation_0-rmse:1745.23\n",
      "[81]\tvalidation_0-rmse:1744.31\n",
      "[82]\tvalidation_0-rmse:1743.49\n",
      "[83]\tvalidation_0-rmse:1741.72\n",
      "[84]\tvalidation_0-rmse:1740.2\n",
      "[85]\tvalidation_0-rmse:1739.16\n",
      "[86]\tvalidation_0-rmse:1738.15\n",
      "[87]\tvalidation_0-rmse:1737.55\n",
      "[88]\tvalidation_0-rmse:1736.13\n",
      "[89]\tvalidation_0-rmse:1735.29\n",
      "[90]\tvalidation_0-rmse:1733.92\n",
      "[91]\tvalidation_0-rmse:1732.68\n",
      "[92]\tvalidation_0-rmse:1731.55\n",
      "[93]\tvalidation_0-rmse:1730.72\n",
      "[94]\tvalidation_0-rmse:1729.47\n",
      "[95]\tvalidation_0-rmse:1729\n",
      "[96]\tvalidation_0-rmse:1728.39\n",
      "[97]\tvalidation_0-rmse:1727.52\n",
      "[98]\tvalidation_0-rmse:1726.67\n",
      "[99]\tvalidation_0-rmse:1725.43\n",
      "RMSE: 1725.45\n",
      "time 0.006158623844385147\n",
      "CPU times: user 4min 26s, sys: 547 ms, total: 4min 27s\n",
      "Wall time: 4min 27s\n"
     ]
    }
   ],
   "source": [
    "%%time\n",
    "xgb(x_train_ord, x_test_ord,y_train_ord, y_test_ord)"
   ]
  },
  {
   "cell_type": "markdown",
   "metadata": {},
   "source": [
    "## CatBoost"
   ]
  },
  {
   "cell_type": "code",
   "execution_count": 23,
   "metadata": {},
   "outputs": [],
   "source": [
    "target_2 = rust_df.price\n",
    "features_2 = rust_df.drop('price', axis=1)\n",
    "x_train,x_test,y_train,y_test = train_test_split(features_2,target_2,\n",
    "                                                 test_size=0.25,random_state=123)                                                                \n",
    "train_dataset = cb.Pool(x_train, y_train, cat_features=feature_categorical,\n",
    "                        feature_names = list(features_2))"
   ]
  },
  {
   "cell_type": "code",
   "execution_count": 24,
   "metadata": {
    "scrolled": true
   },
   "outputs": [
    {
     "name": "stdout",
     "output_type": "stream",
     "text": [
      "0:\tloss: 5075.9593285\tbest: 5075.9593285 (0)\ttotal: 2.54s\tremaining: 4m 1s\n",
      "1:\tloss: 3548.4214525\tbest: 3548.4214525 (1)\ttotal: 3.57s\tremaining: 2m 47s\n",
      "2:\tloss: 5075.9667306\tbest: 3548.4214525 (1)\ttotal: 4.87s\tremaining: 2m 30s\n",
      "3:\tloss: 3548.4334287\tbest: 3548.4214525 (1)\ttotal: 6.16s\tremaining: 2m 21s\n",
      "4:\tloss: 5075.9790672\tbest: 3548.4214525 (1)\ttotal: 7.36s\tremaining: 2m 13s\n",
      "5:\tloss: 3548.4533886\tbest: 3548.4214525 (1)\ttotal: 8.56s\tremaining: 2m 8s\n",
      "6:\tloss: 5076.0284104\tbest: 3548.4214525 (1)\ttotal: 9.76s\tremaining: 2m 4s\n",
      "7:\tloss: 3548.5332229\tbest: 3548.4214525 (1)\ttotal: 11s\tremaining: 2m\n",
      "8:\tloss: 4646.0179818\tbest: 3548.4214525 (1)\ttotal: 12.7s\tremaining: 2m 2s\n",
      "9:\tloss: 3067.4118639\tbest: 3067.4118639 (9)\ttotal: 14.4s\tremaining: 2m 3s\n",
      "10:\tloss: 4646.0271227\tbest: 3067.4118639 (9)\ttotal: 16.1s\tremaining: 2m 4s\n",
      "11:\tloss: 3067.4231599\tbest: 3067.4118639 (9)\ttotal: 17.8s\tremaining: 2m 4s\n",
      "12:\tloss: 4646.0423573\tbest: 3067.4118639 (9)\ttotal: 19.5s\tremaining: 2m 4s\n",
      "13:\tloss: 3067.4419859\tbest: 3067.4118639 (9)\ttotal: 21.2s\tremaining: 2m 3s\n",
      "14:\tloss: 4646.1032923\tbest: 3067.4118639 (9)\ttotal: 22.9s\tremaining: 2m 3s\n",
      "15:\tloss: 3067.5172805\tbest: 3067.4118639 (9)\ttotal: 24.6s\tremaining: 2m 2s\n",
      "16:\tloss: 4289.3455355\tbest: 3067.4118639 (9)\ttotal: 26.8s\tremaining: 2m 4s\n",
      "17:\tloss: 2813.6002527\tbest: 2813.6002527 (17)\ttotal: 29s\tremaining: 2m 5s\n",
      "18:\tloss: 4289.3553337\tbest: 2813.6002527 (17)\ttotal: 31.4s\tremaining: 2m 7s\n",
      "19:\tloss: 2813.6100050\tbest: 2813.6002527 (17)\ttotal: 33.6s\tremaining: 2m 7s\n",
      "20:\tloss: 4289.3716637\tbest: 2813.6002527 (17)\ttotal: 35.9s\tremaining: 2m 8s\n",
      "21:\tloss: 2813.6262585\tbest: 2813.6002527 (17)\ttotal: 38.1s\tremaining: 2m 8s\n",
      "22:\tloss: 4289.4369806\tbest: 2813.6002527 (17)\ttotal: 40.4s\tremaining: 2m 8s\n",
      "23:\tloss: 2813.6912671\tbest: 2813.6002527 (17)\ttotal: 42.6s\tremaining: 2m 7s\n",
      "24:\tloss: 4969.2639381\tbest: 2813.6002527 (17)\ttotal: 44.4s\tremaining: 2m 6s\n",
      "25:\tloss: 3255.5888727\tbest: 2813.6002527 (17)\ttotal: 46.1s\tremaining: 2m 4s\n",
      "26:\tloss: 4969.2928433\tbest: 2813.6002527 (17)\ttotal: 47.8s\tremaining: 2m 2s\n",
      "27:\tloss: 3255.6378742\tbest: 2813.6002527 (17)\ttotal: 49.6s\tremaining: 2m\n",
      "28:\tloss: 4969.3410091\tbest: 2813.6002527 (17)\ttotal: 51.3s\tremaining: 1m 58s\n",
      "29:\tloss: 3255.7194885\tbest: 2813.6002527 (17)\ttotal: 53.1s\tremaining: 1m 56s\n",
      "30:\tloss: 4969.5335556\tbest: 2813.6002527 (17)\ttotal: 55s\tremaining: 1m 55s\n",
      "31:\tloss: 3256.0452883\tbest: 2813.6002527 (17)\ttotal: 56.7s\tremaining: 1m 53s\n",
      "32:\tloss: 4489.8146907\tbest: 2813.6002527 (17)\ttotal: 59.3s\tremaining: 1m 53s\n",
      "33:\tloss: 2734.9025267\tbest: 2734.9025267 (33)\ttotal: 1m 1s\tremaining: 1m 52s\n",
      "34:\tloss: 4489.8497954\tbest: 2734.9025267 (33)\ttotal: 1m 4s\tremaining: 1m 52s\n",
      "35:\tloss: 2734.9445818\tbest: 2734.9025267 (33)\ttotal: 1m 7s\tremaining: 1m 51s\n",
      "36:\tloss: 4489.9082943\tbest: 2734.9025267 (33)\ttotal: 1m 9s\tremaining: 1m 51s\n",
      "37:\tloss: 2735.0146445\tbest: 2734.9025267 (33)\ttotal: 1m 12s\tremaining: 1m 50s\n",
      "38:\tloss: 4490.1421779\tbest: 2734.9025267 (33)\ttotal: 1m 14s\tremaining: 1m 49s\n",
      "39:\tloss: 2735.2945406\tbest: 2734.9025267 (33)\ttotal: 1m 17s\tremaining: 1m 48s\n",
      "40:\tloss: 4079.6281578\tbest: 2734.9025267 (33)\ttotal: 1m 20s\tremaining: 1m 48s\n",
      "41:\tloss: 2456.4052564\tbest: 2456.4052564 (41)\ttotal: 1m 24s\tremaining: 1m 48s\n",
      "42:\tloss: 4079.6696514\tbest: 2456.4052564 (41)\ttotal: 1m 27s\tremaining: 1m 47s\n",
      "43:\tloss: 2456.4367903\tbest: 2456.4052564 (41)\ttotal: 1m 30s\tremaining: 1m 47s\n",
      "44:\tloss: 4079.7387930\tbest: 2456.4052564 (41)\ttotal: 1m 34s\tremaining: 1m 47s\n",
      "45:\tloss: 2456.4893410\tbest: 2456.4052564 (41)\ttotal: 1m 37s\tremaining: 1m 46s\n",
      "46:\tloss: 4080.0151809\tbest: 2456.4052564 (41)\ttotal: 1m 41s\tremaining: 1m 45s\n",
      "47:\tloss: 2456.6994706\tbest: 2456.4052564 (41)\ttotal: 1m 44s\tremaining: 1m 44s\n",
      "48:\tloss: 4915.6826214\tbest: 2456.4052564 (41)\ttotal: 1m 47s\tremaining: 1m 42s\n",
      "49:\tloss: 3148.6202643\tbest: 2456.4052564 (41)\ttotal: 1m 49s\tremaining: 1m 40s\n",
      "50:\tloss: 4915.7603805\tbest: 2456.4052564 (41)\ttotal: 1m 51s\tremaining: 1m 38s\n",
      "51:\tloss: 3148.7351049\tbest: 2456.4052564 (41)\ttotal: 1m 53s\tremaining: 1m 36s\n",
      "52:\tloss: 4915.8898833\tbest: 2456.4052564 (41)\ttotal: 1m 56s\tremaining: 1m 34s\n",
      "53:\tloss: 3148.9262018\tbest: 2456.4052564 (41)\ttotal: 1m 58s\tremaining: 1m 32s\n",
      "54:\tloss: 4916.4067136\tbest: 2456.4052564 (41)\ttotal: 2m\tremaining: 1m 30s\n",
      "55:\tloss: 3149.6871808\tbest: 2456.4052564 (41)\ttotal: 2m 3s\tremaining: 1m 28s\n",
      "56:\tloss: 4415.9309824\tbest: 2456.4052564 (41)\ttotal: 2m 6s\tremaining: 1m 26s\n",
      "57:\tloss: 2595.3803752\tbest: 2456.4052564 (41)\ttotal: 2m 10s\tremaining: 1m 25s\n",
      "58:\tloss: 4416.0341462\tbest: 2456.4052564 (41)\ttotal: 2m 13s\tremaining: 1m 23s\n",
      "59:\tloss: 2595.4794310\tbest: 2456.4052564 (41)\ttotal: 2m 16s\tremaining: 1m 22s\n",
      "60:\tloss: 4416.2059615\tbest: 2456.4052564 (41)\ttotal: 2m 20s\tremaining: 1m 20s\n",
      "61:\tloss: 2595.6441957\tbest: 2456.4052564 (41)\ttotal: 2m 23s\tremaining: 1m 18s\n",
      "62:\tloss: 4416.8916882\tbest: 2456.4052564 (41)\ttotal: 2m 27s\tremaining: 1m 17s\n",
      "63:\tloss: 2596.2989354\tbest: 2456.4052564 (41)\ttotal: 2m 30s\tremaining: 1m 15s\n",
      "64:\tloss: 3995.2239552\tbest: 2456.4052564 (41)\ttotal: 2m 35s\tremaining: 1m 14s\n",
      "65:\tloss: 2314.9704298\tbest: 2314.9704298 (65)\ttotal: 2m 40s\tremaining: 1m 12s\n",
      "66:\tloss: 3995.3359662\tbest: 2314.9704298 (65)\ttotal: 2m 44s\tremaining: 1m 11s\n",
      "67:\tloss: 2315.0387192\tbest: 2314.9704298 (65)\ttotal: 2m 49s\tremaining: 1m 9s\n",
      "68:\tloss: 3995.5225398\tbest: 2314.9704298 (65)\ttotal: 2m 53s\tremaining: 1m 7s\n",
      "69:\tloss: 2315.1529678\tbest: 2314.9704298 (65)\ttotal: 2m 58s\tremaining: 1m 6s\n",
      "70:\tloss: 3996.2674547\tbest: 2314.9704298 (65)\ttotal: 3m 2s\tremaining: 1m 4s\n",
      "71:\tloss: 2315.6112176\tbest: 2314.9704298 (65)\ttotal: 3m 7s\tremaining: 1m 2s\n",
      "72:\tloss: 4879.7928831\tbest: 2314.9704298 (65)\ttotal: 3m 10s\tremaining: 60s\n",
      "73:\tloss: 3081.7134399\tbest: 2314.9704298 (65)\ttotal: 3m 13s\tremaining: 57.5s\n",
      "74:\tloss: 4879.9770947\tbest: 2314.9704298 (65)\ttotal: 3m 16s\tremaining: 55s\n",
      "75:\tloss: 3081.9867676\tbest: 2314.9704298 (65)\ttotal: 3m 19s\tremaining: 52.4s\n",
      "76:\tloss: 4880.2830304\tbest: 2314.9704298 (65)\ttotal: 3m 22s\tremaining: 49.9s\n",
      "77:\tloss: 3082.4415220\tbest: 2314.9704298 (65)\ttotal: 3m 25s\tremaining: 47.4s\n",
      "78:\tloss: 4881.4967166\tbest: 2314.9704298 (65)\ttotal: 3m 28s\tremaining: 44.8s\n",
      "79:\tloss: 3084.2501221\tbest: 2314.9704298 (65)\ttotal: 3m 31s\tremaining: 42.3s\n",
      "80:\tloss: 4366.4706617\tbest: 2314.9704298 (65)\ttotal: 3m 35s\tremaining: 40s\n",
      "81:\tloss: 2529.6296731\tbest: 2314.9704298 (65)\ttotal: 3m 40s\tremaining: 37.6s\n",
      "82:\tloss: 4366.6941233\tbest: 2314.9704298 (65)\ttotal: 3m 44s\tremaining: 35.2s\n",
      "83:\tloss: 2529.8857083\tbest: 2314.9704298 (65)\ttotal: 3m 49s\tremaining: 32.7s\n",
      "84:\tloss: 4367.0654200\tbest: 2314.9704298 (65)\ttotal: 3m 53s\tremaining: 30.2s\n",
      "85:\tloss: 2532.5821029\tbest: 2314.9704298 (65)\ttotal: 3m 57s\tremaining: 27.6s\n",
      "86:\tloss: 4368.5397680\tbest: 2314.9704298 (65)\ttotal: 4m 2s\tremaining: 25s\n",
      "87:\tloss: 2534.1236512\tbest: 2314.9704298 (65)\ttotal: 4m 6s\tremaining: 22.4s\n",
      "88:\tloss: 3940.5576340\tbest: 2314.9704298 (65)\ttotal: 4m 12s\tremaining: 19.8s\n",
      "89:\tloss: 2240.7206188\tbest: 2240.7206188 (89)\ttotal: 4m 18s\tremaining: 17.2s\n",
      "90:\tloss: 3940.8080800\tbest: 2240.7206188 (89)\ttotal: 4m 23s\tremaining: 14.5s\n",
      "91:\tloss: 2240.9199399\tbest: 2240.7206188 (89)\ttotal: 4m 29s\tremaining: 11.7s\n",
      "92:\tloss: 3941.2240865\tbest: 2240.7206188 (89)\ttotal: 4m 35s\tremaining: 8.9s\n",
      "93:\tloss: 2241.6129762\tbest: 2240.7206188 (89)\ttotal: 4m 41s\tremaining: 5.99s\n",
      "94:\tloss: 3942.8745588\tbest: 2240.7206188 (89)\ttotal: 4m 47s\tremaining: 3.02s\n",
      "95:\tloss: 2242.8040622\tbest: 2240.7206188 (89)\ttotal: 4m 53s\tremaining: 0us\n",
      "Estimating final quality...\n",
      "RMSE: 2189.89\n",
      "time 0.005845446139574051\n",
      "CPU times: user 4min 38s, sys: 36 s, total: 5min 14s\n",
      "Wall time: 5min 17s\n"
     ]
    }
   ],
   "source": [
    "%%time\n",
    "catboostR(x_train, x_test,y_train, y_test)"
   ]
  },
  {
   "cell_type": "markdown",
   "metadata": {},
   "source": [
    "## Light GBM "
   ]
  },
  {
   "cell_type": "code",
   "execution_count": 25,
   "metadata": {},
   "outputs": [
    {
     "name": "stdout",
     "output_type": "stream",
     "text": [
      "RMSE: 1740.53\n",
      "time 0.007166773080825806\n",
      "CPU times: user 44.5 s, sys: 584 ms, total: 45.1 s\n",
      "Wall time: 45.2 s\n"
     ]
    }
   ],
   "source": [
    "%%time\n",
    "Lightgbmreg(x_train_ord, x_test_ord,y_train_ord, y_test_ord)"
   ]
  },
  {
   "cell_type": "markdown",
   "metadata": {},
   "source": [
    "## Conclusion\n",
    "**Summary Results**\n",
    "\n",
    "|Model |RMSE | Time |CPU Total Time|\n",
    "|---|---|---|---|\n",
    "|XGBoost| 1725.45 |0.006 |4min 27s|\n",
    "|CatBoost| 2189.89| 0.006 |5min 14s|\n",
    "|Light GBM | 1740.53 | 0.007 |45.1 s|\n",
    "\n",
    "The best model is XGBoost in terms of both rmse and time."
   ]
  },
  {
   "cell_type": "markdown",
   "metadata": {},
   "source": [
    "## Model analysis"
   ]
  },
  {
   "cell_type": "markdown",
   "metadata": {},
   "source": [
    "1. Overall, Linear Regression performed poorly among all the models used in terms of RMSE.\n",
    "2. The boosting models produced lower rmse metric and less CPU time used relative to the others.\n",
    "3. LightGBM used the least CPU time in training of the model.\n",
    "4. The best result is from XGBoost.\n",
    "\n",
    "\n",
    "|| model | RMSE |Time |CPU Total time|\n",
    "|--|---|---|---|---|\n",
    "|1|Linear Regression | 3694.39 |0.010|269ms|\n",
    "|2|Decision Tree | 2387.10 |0.014|10.8s|\n",
    "|3|Random Forest | 2328.84| 0.007|11min 12s|\n",
    "|4|XGBoost| 1725.45 |0.006 |min 27s|\n",
    "|5|CatBoost| 2189.89| 0.006 |5min 14s|\n",
    "|6|Light GBM | 1740.53 | 0.007 |45.1 s|\n"
   ]
  },
  {
   "cell_type": "markdown",
   "metadata": {},
   "source": [
    "# Checklist"
   ]
  },
  {
   "cell_type": "markdown",
   "metadata": {},
   "source": [
    "Type 'x' to check. Then press Shift+Enter."
   ]
  },
  {
   "cell_type": "markdown",
   "metadata": {},
   "source": [
    "- [x]  Jupyter Notebook is open\n",
    "- [X]  Code is error free\n",
    "- [x]  The cells with the code have been arranged in order of execution\n",
    "- [x]  The data has been downloaded and prepared\n",
    "- [x]  The models have been trained\n",
    "- [x]  The analysis of speed and quality of the models has been performed"
   ]
  },
  {
   "cell_type": "code",
   "execution_count": null,
   "metadata": {},
   "outputs": [],
   "source": []
  }
 ],
 "metadata": {
  "ExecuteTimeLog": [
   {
    "duration": 331,
    "start_time": "2021-09-29T07:44:23.351Z"
   },
   {
    "duration": 91,
    "start_time": "2021-09-29T07:45:25.118Z"
   },
   {
    "duration": 1867,
    "start_time": "2021-09-29T07:46:36.927Z"
   },
   {
    "duration": 6,
    "start_time": "2021-09-29T07:51:01.959Z"
   },
   {
    "duration": 882,
    "start_time": "2021-09-29T07:51:25.677Z"
   },
   {
    "duration": 26,
    "start_time": "2021-09-29T07:57:33.215Z"
   },
   {
    "duration": 6,
    "start_time": "2021-09-29T07:57:38.127Z"
   },
   {
    "duration": 432,
    "start_time": "2021-09-29T07:57:52.290Z"
   },
   {
    "duration": 1525,
    "start_time": "2021-09-29T07:58:21.814Z"
   },
   {
    "duration": 1602,
    "start_time": "2021-09-29T07:58:24.604Z"
   },
   {
    "duration": 6,
    "start_time": "2021-09-29T07:58:29.067Z"
   },
   {
    "duration": 852,
    "start_time": "2021-09-29T07:58:33.995Z"
   },
   {
    "duration": 4,
    "start_time": "2021-09-29T08:09:20.062Z"
   },
   {
    "duration": 35,
    "start_time": "2021-09-29T08:09:22.139Z"
   },
   {
    "duration": 35,
    "start_time": "2021-09-29T08:15:13.188Z"
   },
   {
    "duration": 32,
    "start_time": "2021-09-29T08:15:23.728Z"
   },
   {
    "duration": 434,
    "start_time": "2021-09-29T08:17:57.691Z"
   },
   {
    "duration": 32,
    "start_time": "2021-09-29T08:18:06.584Z"
   },
   {
    "duration": 95,
    "start_time": "2021-09-29T08:21:50.035Z"
   },
   {
    "duration": 22,
    "start_time": "2021-09-29T08:21:58.720Z"
   },
   {
    "duration": 10,
    "start_time": "2021-09-29T08:22:20.550Z"
   },
   {
    "duration": 23,
    "start_time": "2021-09-29T08:22:22.373Z"
   },
   {
    "duration": 248,
    "start_time": "2021-09-29T08:22:29.269Z"
   },
   {
    "duration": 1713,
    "start_time": "2021-09-29T08:22:33.314Z"
   },
   {
    "duration": 7,
    "start_time": "2021-09-29T08:22:36.105Z"
   },
   {
    "duration": 1002,
    "start_time": "2021-09-29T08:22:37.568Z"
   },
   {
    "duration": 5,
    "start_time": "2021-09-29T08:22:42.658Z"
   },
   {
    "duration": 55,
    "start_time": "2021-09-29T08:22:43.570Z"
   },
   {
    "duration": 102,
    "start_time": "2021-09-29T08:22:44.326Z"
   },
   {
    "duration": 22,
    "start_time": "2021-09-29T08:22:46.200Z"
   },
   {
    "duration": 1594,
    "start_time": "2021-09-29T08:23:47.425Z"
   },
   {
    "duration": 6,
    "start_time": "2021-09-29T08:23:50.130Z"
   },
   {
    "duration": 846,
    "start_time": "2021-09-29T08:23:51.255Z"
   },
   {
    "duration": 5,
    "start_time": "2021-09-29T08:23:56.900Z"
   },
   {
    "duration": 57,
    "start_time": "2021-09-29T08:23:57.706Z"
   },
   {
    "duration": 90,
    "start_time": "2021-09-29T08:23:58.636Z"
   },
   {
    "duration": 132,
    "start_time": "2021-09-29T08:24:00.185Z"
   },
   {
    "duration": 131,
    "start_time": "2021-09-29T08:28:22.802Z"
   },
   {
    "duration": 30,
    "start_time": "2021-09-29T08:28:28.408Z"
   },
   {
    "duration": 277,
    "start_time": "2021-09-29T08:31:09.685Z"
   },
   {
    "duration": 13,
    "start_time": "2021-09-29T08:31:13.578Z"
   },
   {
    "duration": 1607,
    "start_time": "2021-09-29T08:31:49.847Z"
   },
   {
    "duration": 1529,
    "start_time": "2021-09-29T08:31:51.456Z"
   },
   {
    "duration": 6,
    "start_time": "2021-09-29T08:31:52.988Z"
   },
   {
    "duration": 1054,
    "start_time": "2021-09-29T08:31:53.761Z"
   },
   {
    "duration": 4,
    "start_time": "2021-09-29T08:31:59.503Z"
   },
   {
    "duration": 58,
    "start_time": "2021-09-29T08:32:00.274Z"
   },
   {
    "duration": 61,
    "start_time": "2021-09-29T08:34:04.350Z"
   },
   {
    "duration": 31,
    "start_time": "2021-09-29T08:34:11.467Z"
   },
   {
    "duration": 94,
    "start_time": "2021-09-29T08:34:56.265Z"
   },
   {
    "duration": 107,
    "start_time": "2021-09-29T08:35:35.149Z"
   },
   {
    "duration": 132,
    "start_time": "2021-09-29T08:47:04.730Z"
   },
   {
    "duration": 30,
    "start_time": "2021-09-29T08:47:07.807Z"
   },
   {
    "duration": 140,
    "start_time": "2021-09-29T08:47:25.390Z"
   },
   {
    "duration": 73,
    "start_time": "2021-09-29T08:49:07.310Z"
   },
   {
    "duration": 475,
    "start_time": "2021-09-29T08:51:57.427Z"
   },
   {
    "duration": 128285,
    "start_time": "2021-09-29T08:52:04.929Z"
   },
   {
    "duration": 4,
    "start_time": "2021-09-29T09:03:39.163Z"
   },
   {
    "duration": 43,
    "start_time": "2021-09-29T09:04:56.678Z"
   },
   {
    "duration": 675,
    "start_time": "2021-09-29T09:10:45.731Z"
   },
   {
    "duration": 682,
    "start_time": "2021-09-29T09:11:16.248Z"
   },
   {
    "duration": 4,
    "start_time": "2021-09-29T09:17:45.676Z"
   },
   {
    "duration": 1610,
    "start_time": "2021-09-29T09:19:34.643Z"
   },
   {
    "duration": 1994,
    "start_time": "2021-09-29T09:19:36.256Z"
   },
   {
    "duration": 6,
    "start_time": "2021-09-29T09:19:38.253Z"
   },
   {
    "duration": 888,
    "start_time": "2021-09-29T09:19:38.262Z"
   },
   {
    "duration": 4,
    "start_time": "2021-09-29T09:19:42.685Z"
   },
   {
    "duration": 59,
    "start_time": "2021-09-29T09:19:43.918Z"
   },
   {
    "duration": 61,
    "start_time": "2021-09-29T09:19:44.920Z"
   },
   {
    "duration": 93,
    "start_time": "2021-09-29T09:19:46.098Z"
   },
   {
    "duration": 103,
    "start_time": "2021-09-29T09:19:51.447Z"
   },
   {
    "duration": 27,
    "start_time": "2021-09-29T09:19:58.118Z"
   },
   {
    "duration": 97,
    "start_time": "2021-09-29T09:20:06.177Z"
   },
   {
    "duration": 195,
    "start_time": "2021-09-29T09:21:30.770Z"
   },
   {
    "duration": 95,
    "start_time": "2021-09-29T09:21:32.920Z"
   },
   {
    "duration": 175177,
    "start_time": "2021-09-29T09:21:40.534Z"
   },
   {
    "duration": 70,
    "start_time": "2021-09-29T09:24:35.714Z"
   },
   {
    "duration": 771,
    "start_time": "2021-09-29T09:24:35.787Z"
   },
   {
    "duration": 4,
    "start_time": "2021-09-29T09:24:36.561Z"
   },
   {
    "duration": 4,
    "start_time": "2021-09-29T09:27:23.213Z"
   },
   {
    "duration": 183,
    "start_time": "2021-09-29T09:31:12.444Z"
   },
   {
    "duration": 1751,
    "start_time": "2021-09-29T09:50:10.433Z"
   },
   {
    "duration": 297,
    "start_time": "2021-09-29T09:50:33.207Z"
   },
   {
    "duration": 346,
    "start_time": "2021-09-29T09:54:42.148Z"
   },
   {
    "duration": 320,
    "start_time": "2021-09-29T09:55:07.853Z"
   },
   {
    "duration": 281,
    "start_time": "2021-09-29T14:29:47.719Z"
   },
   {
    "duration": 291,
    "start_time": "2021-09-29T14:30:15.543Z"
   },
   {
    "duration": 1585,
    "start_time": "2021-09-29T14:30:33.764Z"
   },
   {
    "duration": 1591,
    "start_time": "2021-09-29T14:30:35.351Z"
   },
   {
    "duration": 6,
    "start_time": "2021-09-29T14:30:36.945Z"
   },
   {
    "duration": 931,
    "start_time": "2021-09-29T14:30:36.954Z"
   },
   {
    "duration": 5,
    "start_time": "2021-09-29T14:30:41.597Z"
   },
   {
    "duration": 57,
    "start_time": "2021-09-29T14:30:42.280Z"
   },
   {
    "duration": 61,
    "start_time": "2021-09-29T14:30:42.858Z"
   },
   {
    "duration": 97,
    "start_time": "2021-09-29T14:30:43.693Z"
   },
   {
    "duration": 112,
    "start_time": "2021-09-29T14:30:45.425Z"
   },
   {
    "duration": 194,
    "start_time": "2021-09-29T14:30:49.217Z"
   },
   {
    "duration": 101,
    "start_time": "2021-09-29T14:30:49.413Z"
   },
   {
    "duration": 1529,
    "start_time": "2021-09-29T14:31:24.421Z"
   },
   {
    "duration": 1592,
    "start_time": "2021-09-29T14:31:25.952Z"
   },
   {
    "duration": 6,
    "start_time": "2021-09-29T14:31:27.547Z"
   },
   {
    "duration": 935,
    "start_time": "2021-09-29T14:31:27.555Z"
   },
   {
    "duration": 4,
    "start_time": "2021-09-29T14:31:36.326Z"
   },
   {
    "duration": 57,
    "start_time": "2021-09-29T14:31:38.287Z"
   },
   {
    "duration": 58,
    "start_time": "2021-09-29T14:31:39.071Z"
   },
   {
    "duration": 100,
    "start_time": "2021-09-29T14:31:39.971Z"
   },
   {
    "duration": 96,
    "start_time": "2021-09-29T14:31:42.431Z"
   },
   {
    "duration": 200,
    "start_time": "2021-09-29T14:31:43.737Z"
   },
   {
    "duration": 95,
    "start_time": "2021-09-29T14:31:44.752Z"
   },
   {
    "duration": 176489,
    "start_time": "2021-09-29T14:31:47.502Z"
   },
   {
    "duration": 56,
    "start_time": "2021-09-29T14:34:43.993Z"
   },
   {
    "duration": 790,
    "start_time": "2021-09-29T14:34:44.053Z"
   },
   {
    "duration": 3,
    "start_time": "2021-09-29T14:34:44.846Z"
   },
   {
    "duration": 17,
    "start_time": "2021-09-29T14:35:14.639Z"
   },
   {
    "duration": 1446,
    "start_time": "2021-09-29T14:36:00.429Z"
   },
   {
    "duration": 1206,
    "start_time": "2021-09-29T14:37:23.246Z"
   },
   {
    "duration": 1700,
    "start_time": "2021-09-29T14:38:14.063Z"
   },
   {
    "duration": 177,
    "start_time": "2021-09-29T14:40:38.885Z"
   },
   {
    "duration": 29,
    "start_time": "2021-09-29T14:43:15.959Z"
   },
   {
    "duration": 8,
    "start_time": "2021-09-29T14:50:36.409Z"
   },
   {
    "duration": 261,
    "start_time": "2021-09-29T14:52:08.868Z"
   },
   {
    "duration": 609,
    "start_time": "2021-09-29T14:52:43.084Z"
   },
   {
    "duration": 3,
    "start_time": "2021-09-29T14:53:26.702Z"
   },
   {
    "duration": 450,
    "start_time": "2021-09-29T14:53:36.226Z"
   },
   {
    "duration": 454,
    "start_time": "2021-09-29T14:54:09.210Z"
   },
   {
    "duration": 20,
    "start_time": "2021-09-29T14:56:46.730Z"
   },
   {
    "duration": 1306,
    "start_time": "2021-09-29T14:56:55.450Z"
   },
   {
    "duration": 1393,
    "start_time": "2021-09-29T14:57:48.915Z"
   },
   {
    "duration": 24,
    "start_time": "2021-09-29T14:58:23.688Z"
   },
   {
    "duration": 8,
    "start_time": "2021-09-29T15:04:53.340Z"
   },
   {
    "duration": 1293,
    "start_time": "2021-09-30T06:46:16.644Z"
   },
   {
    "duration": 1759,
    "start_time": "2021-09-30T06:46:20.045Z"
   },
   {
    "duration": 4,
    "start_time": "2021-09-30T06:46:21.936Z"
   },
   {
    "duration": 688,
    "start_time": "2021-09-30T06:46:23.456Z"
   },
   {
    "duration": 4,
    "start_time": "2021-09-30T06:46:30.577Z"
   },
   {
    "duration": 42,
    "start_time": "2021-09-30T06:46:31.436Z"
   },
   {
    "duration": 43,
    "start_time": "2021-09-30T06:46:32.282Z"
   },
   {
    "duration": 94,
    "start_time": "2021-09-30T06:46:34.433Z"
   },
   {
    "duration": 79,
    "start_time": "2021-09-30T06:46:37.429Z"
   },
   {
    "duration": 156,
    "start_time": "2021-09-30T06:46:40.825Z"
   },
   {
    "duration": 82,
    "start_time": "2021-09-30T06:46:47.046Z"
   },
   {
    "duration": 129733,
    "start_time": "2021-09-30T06:46:49.301Z"
   },
   {
    "duration": 58,
    "start_time": "2021-09-30T06:48:59.037Z"
   },
   {
    "duration": 534,
    "start_time": "2021-09-30T06:48:59.098Z"
   },
   {
    "duration": 3,
    "start_time": "2021-09-30T06:48:59.635Z"
   },
   {
    "duration": 1211,
    "start_time": "2021-09-30T06:48:59.639Z"
   },
   {
    "duration": 343,
    "start_time": "2021-09-30T06:57:28.319Z"
   },
   {
    "duration": 28,
    "start_time": "2021-09-30T06:57:39.268Z"
   },
   {
    "duration": 131,
    "start_time": "2021-09-30T06:57:40.867Z"
   },
   {
    "duration": 5,
    "start_time": "2021-09-30T07:02:53.116Z"
   },
   {
    "duration": 127,
    "start_time": "2021-09-30T07:03:47.803Z"
   },
   {
    "duration": 4,
    "start_time": "2021-09-30T07:03:49.379Z"
   },
   {
    "duration": 293,
    "start_time": "2021-09-30T07:11:14.748Z"
   },
   {
    "duration": 6,
    "start_time": "2021-09-30T07:11:41.038Z"
   },
   {
    "duration": 3,
    "start_time": "2021-09-30T07:17:20.122Z"
   },
   {
    "duration": 4,
    "start_time": "2021-09-30T07:18:54.078Z"
   },
   {
    "duration": 1029,
    "start_time": "2021-09-30T07:20:17.092Z"
   },
   {
    "duration": 3,
    "start_time": "2021-09-30T07:20:33.841Z"
   },
   {
    "duration": 267,
    "start_time": "2021-09-30T07:20:39.583Z"
   },
   {
    "duration": 266,
    "start_time": "2021-09-30T07:20:59.993Z"
   },
   {
    "duration": 6,
    "start_time": "2021-09-30T07:24:06.457Z"
   },
   {
    "duration": 6,
    "start_time": "2021-09-30T07:32:11.168Z"
   },
   {
    "duration": 87,
    "start_time": "2021-09-30T07:33:14.022Z"
   },
   {
    "duration": 5,
    "start_time": "2021-09-30T07:33:20.106Z"
   },
   {
    "duration": 4,
    "start_time": "2021-09-30T07:33:47.299Z"
   },
   {
    "duration": 429,
    "start_time": "2021-09-30T07:34:02.225Z"
   },
   {
    "duration": 5,
    "start_time": "2021-09-30T07:43:28.835Z"
   },
   {
    "duration": 459,
    "start_time": "2021-09-30T07:43:32.959Z"
   },
   {
    "duration": 4,
    "start_time": "2021-09-30T07:51:04.272Z"
   },
   {
    "duration": 272,
    "start_time": "2021-09-30T07:51:08.076Z"
   },
   {
    "duration": 4,
    "start_time": "2021-09-30T07:52:38.053Z"
   },
   {
    "duration": 273,
    "start_time": "2021-09-30T07:52:39.577Z"
   },
   {
    "duration": 4,
    "start_time": "2021-09-30T07:52:48.410Z"
   },
   {
    "duration": 252,
    "start_time": "2021-09-30T07:52:49.197Z"
   },
   {
    "duration": 3,
    "start_time": "2021-09-30T07:58:44.962Z"
   },
   {
    "duration": 5,
    "start_time": "2021-09-30T08:00:29.354Z"
   },
   {
    "duration": 678,
    "start_time": "2021-09-30T08:00:30.442Z"
   },
   {
    "duration": 3,
    "start_time": "2021-09-30T08:03:06.673Z"
   },
   {
    "duration": 5,
    "start_time": "2021-09-30T08:03:07.913Z"
   },
   {
    "duration": 696,
    "start_time": "2021-09-30T08:03:09.808Z"
   },
   {
    "duration": 5,
    "start_time": "2021-09-30T08:03:44.126Z"
   },
   {
    "duration": 1614,
    "start_time": "2021-09-30T08:03:45.298Z"
   },
   {
    "duration": 5,
    "start_time": "2021-09-30T08:04:03.580Z"
   },
   {
    "duration": 494,
    "start_time": "2021-09-30T08:04:05.609Z"
   },
   {
    "duration": 5,
    "start_time": "2021-09-30T08:21:52.345Z"
   },
   {
    "duration": 590,
    "start_time": "2021-09-30T08:21:53.199Z"
   },
   {
    "duration": 5,
    "start_time": "2021-09-30T08:23:18.690Z"
   },
   {
    "duration": 1712,
    "start_time": "2021-09-30T08:23:19.713Z"
   },
   {
    "duration": 1229,
    "start_time": "2021-09-30T08:25:57.300Z"
   },
   {
    "duration": 5,
    "start_time": "2021-09-30T08:35:59.817Z"
   },
   {
    "duration": 13407,
    "start_time": "2021-09-30T08:36:00.985Z"
   },
   {
    "duration": 4,
    "start_time": "2021-09-30T08:45:12.785Z"
   },
   {
    "duration": 411,
    "start_time": "2021-09-30T08:45:13.736Z"
   },
   {
    "duration": 4,
    "start_time": "2021-09-30T08:46:20.800Z"
   },
   {
    "duration": 473,
    "start_time": "2021-09-30T08:46:21.774Z"
   },
   {
    "duration": 5,
    "start_time": "2021-09-30T08:56:52.321Z"
   },
   {
    "duration": 415,
    "start_time": "2021-09-30T08:56:54.017Z"
   },
   {
    "duration": 4,
    "start_time": "2021-09-30T08:58:58.468Z"
   },
   {
    "duration": 10577,
    "start_time": "2021-09-30T08:58:59.389Z"
   },
   {
    "duration": 5,
    "start_time": "2021-09-30T08:59:33.389Z"
   },
   {
    "duration": 1453,
    "start_time": "2021-09-30T08:59:34.583Z"
   },
   {
    "duration": 5,
    "start_time": "2021-09-30T09:01:10.725Z"
   },
   {
    "duration": 10639,
    "start_time": "2021-09-30T09:01:12.757Z"
   },
   {
    "duration": 5,
    "start_time": "2021-09-30T09:12:19.566Z"
   },
   {
    "duration": 718286,
    "start_time": "2021-09-30T09:12:52.331Z"
   },
   {
    "duration": 5,
    "start_time": "2021-09-30T09:30:12.761Z"
   },
   {
    "duration": 445,
    "start_time": "2021-09-30T09:30:14.330Z"
   },
   {
    "duration": 6837,
    "start_time": "2021-09-30T09:39:33.668Z"
   },
   {
    "duration": 5,
    "start_time": "2021-09-30T09:39:52.104Z"
   },
   {
    "duration": 437,
    "start_time": "2021-09-30T09:39:56.230Z"
   },
   {
    "duration": 1345,
    "start_time": "2021-09-30T09:40:18.913Z"
   },
   {
    "duration": 1433,
    "start_time": "2021-09-30T09:40:22.624Z"
   },
   {
    "duration": 6,
    "start_time": "2021-09-30T09:40:24.059Z"
   },
   {
    "duration": 712,
    "start_time": "2021-09-30T09:40:25.306Z"
   },
   {
    "duration": 3,
    "start_time": "2021-09-30T09:40:30.400Z"
   },
   {
    "duration": 47,
    "start_time": "2021-09-30T09:40:31.028Z"
   },
   {
    "duration": 45,
    "start_time": "2021-09-30T09:40:31.770Z"
   },
   {
    "duration": 97,
    "start_time": "2021-09-30T09:40:32.641Z"
   },
   {
    "duration": 77,
    "start_time": "2021-09-30T09:40:35.526Z"
   },
   {
    "duration": 153,
    "start_time": "2021-09-30T09:40:36.624Z"
   },
   {
    "duration": 78,
    "start_time": "2021-09-30T09:40:37.277Z"
   },
   {
    "duration": 121916,
    "start_time": "2021-09-30T09:40:38.914Z"
   },
   {
    "duration": 57,
    "start_time": "2021-09-30T09:42:40.833Z"
   },
   {
    "duration": 560,
    "start_time": "2021-09-30T09:42:40.892Z"
   },
   {
    "duration": 3,
    "start_time": "2021-09-30T09:42:41.454Z"
   },
   {
    "duration": 14,
    "start_time": "2021-09-30T09:42:41.459Z"
   },
   {
    "duration": 1156,
    "start_time": "2021-09-30T09:42:41.475Z"
   },
   {
    "duration": 348,
    "start_time": "2021-09-30T09:42:42.633Z"
   },
   {
    "duration": -24,
    "start_time": "2021-09-30T09:42:43.008Z"
   },
   {
    "duration": -25,
    "start_time": "2021-09-30T09:42:43.010Z"
   },
   {
    "duration": -72,
    "start_time": "2021-09-30T09:42:43.058Z"
   },
   {
    "duration": -73,
    "start_time": "2021-09-30T09:42:43.061Z"
   },
   {
    "duration": 29,
    "start_time": "2021-09-30T09:42:53.801Z"
   },
   {
    "duration": 139,
    "start_time": "2021-09-30T09:42:54.935Z"
   },
   {
    "duration": 4,
    "start_time": "2021-09-30T09:42:56.506Z"
   },
   {
    "duration": 3,
    "start_time": "2021-09-30T09:43:01.275Z"
   },
   {
    "duration": 4,
    "start_time": "2021-09-30T09:43:02.214Z"
   },
   {
    "duration": 261,
    "start_time": "2021-09-30T09:43:04.289Z"
   },
   {
    "duration": 4,
    "start_time": "2021-09-30T09:43:18.216Z"
   },
   {
    "duration": 10251,
    "start_time": "2021-09-30T09:43:20.844Z"
   },
   {
    "duration": 5,
    "start_time": "2021-09-30T09:44:39.085Z"
   },
   {
    "duration": 674216,
    "start_time": "2021-09-30T09:44:41.733Z"
   },
   {
    "duration": 97,
    "start_time": "2021-09-30T10:07:13.105Z"
   },
   {
    "duration": 147,
    "start_time": "2021-09-30T10:07:30.231Z"
   },
   {
    "duration": 7,
    "start_time": "2021-09-30T10:08:06.029Z"
   },
   {
    "duration": 424,
    "start_time": "2021-09-30T10:08:33.689Z"
   },
   {
    "duration": 5,
    "start_time": "2021-09-30T10:10:01.859Z"
   },
   {
    "duration": 430,
    "start_time": "2021-09-30T10:10:03.310Z"
   },
   {
    "duration": 7,
    "start_time": "2021-09-30T10:13:00.458Z"
   },
   {
    "duration": 1318,
    "start_time": "2021-09-30T10:50:07.241Z"
   },
   {
    "duration": 1621,
    "start_time": "2021-09-30T10:50:08.562Z"
   },
   {
    "duration": 4,
    "start_time": "2021-09-30T10:50:10.186Z"
   },
   {
    "duration": 726,
    "start_time": "2021-09-30T10:50:10.235Z"
   },
   {
    "duration": 4,
    "start_time": "2021-09-30T10:50:14.155Z"
   },
   {
    "duration": 42,
    "start_time": "2021-09-30T10:50:14.716Z"
   },
   {
    "duration": 44,
    "start_time": "2021-09-30T10:50:15.278Z"
   },
   {
    "duration": 96,
    "start_time": "2021-09-30T10:50:16.025Z"
   },
   {
    "duration": 78,
    "start_time": "2021-09-30T10:50:18.060Z"
   },
   {
    "duration": 158,
    "start_time": "2021-09-30T10:50:20.886Z"
   },
   {
    "duration": 79,
    "start_time": "2021-09-30T10:50:21.790Z"
   },
   {
    "duration": 47,
    "start_time": "2021-09-30T10:50:26.330Z"
   },
   {
    "duration": 534,
    "start_time": "2021-09-30T10:50:30.221Z"
   },
   {
    "duration": 522,
    "start_time": "2021-09-30T10:50:36.637Z"
   },
   {
    "duration": 3,
    "start_time": "2021-09-30T10:50:40.359Z"
   },
   {
    "duration": 13,
    "start_time": "2021-09-30T10:50:41.941Z"
   },
   {
    "duration": 1142,
    "start_time": "2021-09-30T10:50:43.726Z"
   },
   {
    "duration": 23,
    "start_time": "2021-09-30T10:50:47.301Z"
   },
   {
    "duration": 151,
    "start_time": "2021-09-30T10:50:47.974Z"
   },
   {
    "duration": 4,
    "start_time": "2021-09-30T10:50:49.076Z"
   },
   {
    "duration": 4,
    "start_time": "2021-09-30T10:50:51.370Z"
   },
   {
    "duration": 5,
    "start_time": "2021-09-30T10:50:52.356Z"
   },
   {
    "duration": 194,
    "start_time": "2021-09-30T10:50:55.261Z"
   },
   {
    "duration": 5,
    "start_time": "2021-09-30T10:51:03.871Z"
   },
   {
    "duration": 10578,
    "start_time": "2021-09-30T10:51:05.778Z"
   },
   {
    "duration": 5,
    "start_time": "2021-09-30T10:51:24.140Z"
   },
   {
    "duration": 687361,
    "start_time": "2021-09-30T10:51:26.262Z"
   },
   {
    "duration": 5,
    "start_time": "2021-09-30T11:02:59.701Z"
   },
   {
    "duration": 1307,
    "start_time": "2021-09-30T11:40:30.019Z"
   },
   {
    "duration": 1586,
    "start_time": "2021-09-30T11:40:31.990Z"
   },
   {
    "duration": 4,
    "start_time": "2021-09-30T11:40:33.578Z"
   },
   {
    "duration": 628,
    "start_time": "2021-09-30T11:40:34.226Z"
   },
   {
    "duration": 3,
    "start_time": "2021-09-30T11:40:37.834Z"
   },
   {
    "duration": 42,
    "start_time": "2021-09-30T11:40:38.463Z"
   },
   {
    "duration": 45,
    "start_time": "2021-09-30T11:40:39.087Z"
   },
   {
    "duration": 80,
    "start_time": "2021-09-30T11:40:39.639Z"
   },
   {
    "duration": 74,
    "start_time": "2021-09-30T11:40:41.703Z"
   },
   {
    "duration": 183,
    "start_time": "2021-09-30T11:40:43.046Z"
   },
   {
    "duration": 74,
    "start_time": "2021-09-30T11:40:43.896Z"
   },
   {
    "duration": 41,
    "start_time": "2021-09-30T11:40:47.479Z"
   },
   {
    "duration": 476,
    "start_time": "2021-09-30T11:40:51.858Z"
   },
   {
    "duration": 3,
    "start_time": "2021-09-30T11:40:55.437Z"
   },
   {
    "duration": 11,
    "start_time": "2021-09-30T11:40:57.347Z"
   },
   {
    "duration": 1032,
    "start_time": "2021-09-30T11:40:58.943Z"
   },
   {
    "duration": 21,
    "start_time": "2021-09-30T11:41:03.587Z"
   },
   {
    "duration": 127,
    "start_time": "2021-09-30T11:41:04.261Z"
   },
   {
    "duration": 3,
    "start_time": "2021-09-30T11:41:04.962Z"
   },
   {
    "duration": 3,
    "start_time": "2021-09-30T11:41:05.887Z"
   },
   {
    "duration": 4,
    "start_time": "2021-09-30T11:41:08.119Z"
   },
   {
    "duration": 296,
    "start_time": "2021-09-30T11:41:10.353Z"
   },
   {
    "duration": 5,
    "start_time": "2021-09-30T11:41:11.887Z"
   },
   {
    "duration": 9115,
    "start_time": "2021-09-30T11:41:19.902Z"
   },
   {
    "duration": 4,
    "start_time": "2021-09-30T11:41:29.019Z"
   },
   {
    "duration": 89,
    "start_time": "2021-09-30T11:41:36.964Z"
   },
   {
    "duration": 5,
    "start_time": "2021-09-30T11:42:28.325Z"
   },
   {
    "duration": 1293,
    "start_time": "2021-09-30T11:48:35.040Z"
   },
   {
    "duration": 1350,
    "start_time": "2021-09-30T11:48:36.335Z"
   },
   {
    "duration": 4,
    "start_time": "2021-09-30T11:48:37.687Z"
   },
   {
    "duration": 672,
    "start_time": "2021-09-30T11:48:37.693Z"
   },
   {
    "duration": 3,
    "start_time": "2021-09-30T11:48:41.976Z"
   },
   {
    "duration": 41,
    "start_time": "2021-09-30T11:48:42.708Z"
   },
   {
    "duration": 41,
    "start_time": "2021-09-30T11:48:43.226Z"
   },
   {
    "duration": 87,
    "start_time": "2021-09-30T11:48:43.735Z"
   },
   {
    "duration": 76,
    "start_time": "2021-09-30T11:48:45.659Z"
   },
   {
    "duration": 149,
    "start_time": "2021-09-30T11:48:46.764Z"
   },
   {
    "duration": 74,
    "start_time": "2021-09-30T11:48:47.557Z"
   },
   {
    "duration": 46,
    "start_time": "2021-09-30T11:48:50.214Z"
   },
   {
    "duration": 503,
    "start_time": "2021-09-30T11:48:52.882Z"
   },
   {
    "duration": 3,
    "start_time": "2021-09-30T11:48:57.023Z"
   },
   {
    "duration": 12,
    "start_time": "2021-09-30T11:48:57.734Z"
   },
   {
    "duration": 1072,
    "start_time": "2021-09-30T11:48:59.257Z"
   },
   {
    "duration": 21,
    "start_time": "2021-09-30T11:49:03.154Z"
   },
   {
    "duration": 140,
    "start_time": "2021-09-30T11:49:03.905Z"
   },
   {
    "duration": 4,
    "start_time": "2021-09-30T11:49:05.127Z"
   },
   {
    "duration": 3,
    "start_time": "2021-09-30T11:49:06.489Z"
   },
   {
    "duration": 4,
    "start_time": "2021-09-30T11:49:10.393Z"
   },
   {
    "duration": 167,
    "start_time": "2021-09-30T11:49:11.987Z"
   },
   {
    "duration": 4,
    "start_time": "2021-09-30T11:49:28.554Z"
   },
   {
    "duration": 9681,
    "start_time": "2021-09-30T11:49:30.296Z"
   },
   {
    "duration": 5,
    "start_time": "2021-09-30T11:49:41.770Z"
   },
   {
    "duration": 634175,
    "start_time": "2021-09-30T11:49:44.767Z"
   },
   {
    "duration": 5,
    "start_time": "2021-09-30T12:03:50.062Z"
   },
   {
    "duration": 1258,
    "start_time": "2021-09-30T12:12:51.875Z"
   },
   {
    "duration": 1602,
    "start_time": "2021-09-30T12:12:53.139Z"
   },
   {
    "duration": 4,
    "start_time": "2021-09-30T12:12:54.743Z"
   },
   {
    "duration": 670,
    "start_time": "2021-09-30T12:12:54.749Z"
   },
   {
    "duration": 4,
    "start_time": "2021-09-30T12:12:58.942Z"
   },
   {
    "duration": 39,
    "start_time": "2021-09-30T12:12:59.443Z"
   },
   {
    "duration": 40,
    "start_time": "2021-09-30T12:12:59.931Z"
   },
   {
    "duration": 91,
    "start_time": "2021-09-30T12:13:00.903Z"
   },
   {
    "duration": 78,
    "start_time": "2021-09-30T12:13:03.142Z"
   },
   {
    "duration": 147,
    "start_time": "2021-09-30T12:13:04.271Z"
   },
   {
    "duration": 78,
    "start_time": "2021-09-30T12:13:05.170Z"
   },
   {
    "duration": 45,
    "start_time": "2021-09-30T12:13:09.651Z"
   },
   {
    "duration": 503,
    "start_time": "2021-09-30T12:13:12.516Z"
   },
   {
    "duration": 3,
    "start_time": "2021-09-30T12:13:15.999Z"
   },
   {
    "duration": 13,
    "start_time": "2021-09-30T12:13:16.734Z"
   },
   {
    "duration": 1107,
    "start_time": "2021-09-30T12:13:18.836Z"
   },
   {
    "duration": 23,
    "start_time": "2021-09-30T12:13:22.906Z"
   },
   {
    "duration": 146,
    "start_time": "2021-09-30T12:13:24.702Z"
   },
   {
    "duration": 5,
    "start_time": "2021-09-30T12:13:25.548Z"
   },
   {
    "duration": 3,
    "start_time": "2021-09-30T12:13:26.650Z"
   },
   {
    "duration": 4,
    "start_time": "2021-09-30T12:13:27.781Z"
   },
   {
    "duration": 269,
    "start_time": "2021-09-30T12:13:29.593Z"
   },
   {
    "duration": 5,
    "start_time": "2021-09-30T12:13:33.410Z"
   },
   {
    "duration": 10441,
    "start_time": "2021-09-30T12:13:34.394Z"
   },
   {
    "duration": 13,
    "start_time": "2021-09-30T12:13:44.837Z"
   },
   {
    "duration": 647751,
    "start_time": "2021-09-30T12:13:44.853Z"
   },
   {
    "duration": 5,
    "start_time": "2021-09-30T12:24:32.606Z"
   },
   {
    "duration": 1199838,
    "start_time": "2021-09-30T12:24:32.613Z"
   },
   {
    "duration": 223,
    "start_time": "2021-09-30T12:44:32.453Z"
   },
   {
    "duration": 6,
    "start_time": "2021-09-30T13:35:24.977Z"
   },
   {
    "duration": 4,
    "start_time": "2021-09-30T13:37:17.727Z"
   },
   {
    "duration": 227069,
    "start_time": "2021-09-30T13:37:20.741Z"
   },
   {
    "duration": 4,
    "start_time": "2021-09-30T13:44:20.075Z"
   },
   {
    "duration": 224606,
    "start_time": "2021-09-30T13:44:22.394Z"
   },
   {
    "duration": 4,
    "start_time": "2021-09-30T13:50:35.730Z"
   },
   {
    "duration": 225215,
    "start_time": "2021-09-30T13:50:37.220Z"
   },
   {
    "duration": 192,
    "start_time": "2021-09-30T13:57:43.963Z"
   },
   {
    "duration": 95,
    "start_time": "2021-09-30T13:59:36.849Z"
   },
   {
    "duration": 5,
    "start_time": "2021-09-30T13:59:44.702Z"
   },
   {
    "duration": 537,
    "start_time": "2021-09-30T14:00:16.505Z"
   },
   {
    "duration": 5,
    "start_time": "2021-09-30T14:00:51.942Z"
   },
   {
    "duration": 25271,
    "start_time": "2021-09-30T14:00:53.044Z"
   },
   {
    "duration": 5,
    "start_time": "2021-09-30T14:03:01.934Z"
   },
   {
    "duration": 32558,
    "start_time": "2021-09-30T14:03:03.176Z"
   },
   {
    "duration": 4,
    "start_time": "2021-09-30T14:04:32.598Z"
   },
   {
    "duration": 14549,
    "start_time": "2021-09-30T14:04:33.666Z"
   },
   {
    "duration": 4,
    "start_time": "2021-09-30T14:14:22.462Z"
   },
   {
    "duration": 14951,
    "start_time": "2021-09-30T14:14:24.247Z"
   },
   {
    "duration": 5,
    "start_time": "2021-09-30T14:16:33.074Z"
   },
   {
    "duration": 417,
    "start_time": "2021-09-30T14:16:34.170Z"
   },
   {
    "duration": 7,
    "start_time": "2021-09-30T14:23:34.547Z"
   },
   {
    "duration": 413,
    "start_time": "2021-09-30T14:23:35.638Z"
   },
   {
    "duration": 4,
    "start_time": "2021-09-30T14:27:19.169Z"
   },
   {
    "duration": 119719,
    "start_time": "2021-09-30T14:27:20.387Z"
   },
   {
    "duration": 121,
    "start_time": "2021-09-30T14:33:47.014Z"
   },
   {
    "duration": 5,
    "start_time": "2021-09-30T14:34:06.000Z"
   },
   {
    "duration": 1285,
    "start_time": "2021-09-30T14:36:12.857Z"
   },
   {
    "duration": 1364,
    "start_time": "2021-09-30T14:36:14.903Z"
   },
   {
    "duration": 4,
    "start_time": "2021-09-30T14:36:16.269Z"
   },
   {
    "duration": 741,
    "start_time": "2021-09-30T14:36:17.144Z"
   },
   {
    "duration": 4,
    "start_time": "2021-09-30T14:36:22.152Z"
   },
   {
    "duration": 46,
    "start_time": "2021-09-30T14:36:22.857Z"
   },
   {
    "duration": 45,
    "start_time": "2021-09-30T14:36:23.554Z"
   },
   {
    "duration": 97,
    "start_time": "2021-09-30T14:36:24.282Z"
   },
   {
    "duration": 77,
    "start_time": "2021-09-30T14:36:26.592Z"
   },
   {
    "duration": 163,
    "start_time": "2021-09-30T14:36:28.882Z"
   },
   {
    "duration": 79,
    "start_time": "2021-09-30T14:36:29.698Z"
   },
   {
    "duration": 48,
    "start_time": "2021-09-30T14:36:34.185Z"
   },
   {
    "duration": 529,
    "start_time": "2021-09-30T14:36:37.399Z"
   },
   {
    "duration": 3,
    "start_time": "2021-09-30T14:36:41.131Z"
   },
   {
    "duration": 12,
    "start_time": "2021-09-30T14:36:43.455Z"
   },
   {
    "duration": 1174,
    "start_time": "2021-09-30T14:36:46.067Z"
   },
   {
    "duration": 23,
    "start_time": "2021-09-30T14:36:50.469Z"
   },
   {
    "duration": 81,
    "start_time": "2021-09-30T14:37:12.092Z"
   },
   {
    "duration": 4,
    "start_time": "2021-09-30T14:37:12.918Z"
   },
   {
    "duration": 3,
    "start_time": "2021-09-30T14:37:15.849Z"
   },
   {
    "duration": 5,
    "start_time": "2021-09-30T14:37:17.303Z"
   },
   {
    "duration": 252,
    "start_time": "2021-09-30T14:37:19.702Z"
   },
   {
    "duration": 81,
    "start_time": "2021-09-30T14:37:29.745Z"
   },
   {
    "duration": 4,
    "start_time": "2021-09-30T14:37:31.238Z"
   },
   {
    "duration": 280,
    "start_time": "2021-09-30T14:37:36.370Z"
   },
   {
    "duration": 5,
    "start_time": "2021-09-30T14:37:40.095Z"
   },
   {
    "duration": 13647,
    "start_time": "2021-09-30T14:37:49.021Z"
   },
   {
    "duration": 4,
    "start_time": "2021-09-30T14:38:02.670Z"
   },
   {
    "duration": 879853,
    "start_time": "2021-09-30T14:38:02.676Z"
   },
   {
    "duration": 5,
    "start_time": "2021-09-30T14:52:42.531Z"
   },
   {
    "duration": 293492,
    "start_time": "2021-09-30T14:52:42.550Z"
   },
   {
    "duration": 122,
    "start_time": "2021-09-30T14:58:43.802Z"
   },
   {
    "duration": 4,
    "start_time": "2021-09-30T14:58:48.237Z"
   },
   {
    "duration": 120362,
    "start_time": "2021-09-30T14:58:53.251Z"
   },
   {
    "duration": 4,
    "start_time": "2021-09-30T15:03:46.510Z"
   },
   {
    "duration": 1511,
    "start_time": "2021-09-30T15:04:02.553Z"
   },
   {
    "duration": 4,
    "start_time": "2021-09-30T15:06:26.123Z"
   },
   {
    "duration": 1106,
    "start_time": "2021-09-30T15:06:29.709Z"
   },
   {
    "duration": 5,
    "start_time": "2021-09-30T15:11:40.207Z"
   },
   {
    "duration": 1025,
    "start_time": "2021-09-30T15:11:41.363Z"
   },
   {
    "duration": 94,
    "start_time": "2021-09-30T15:24:54.281Z"
   },
   {
    "duration": 5,
    "start_time": "2021-09-30T15:25:02.531Z"
   },
   {
    "duration": 2248,
    "start_time": "2021-09-30T15:25:06.143Z"
   },
   {
    "duration": 5,
    "start_time": "2021-09-30T15:26:20.480Z"
   },
   {
    "duration": 970,
    "start_time": "2021-09-30T15:26:23.300Z"
   },
   {
    "duration": 5,
    "start_time": "2021-09-30T15:28:04.474Z"
   },
   {
    "duration": 121977,
    "start_time": "2021-09-30T15:28:05.744Z"
   },
   {
    "duration": 121,
    "start_time": "2021-09-30T15:34:35.978Z"
   },
   {
    "duration": 3,
    "start_time": "2021-09-30T15:34:46.089Z"
   },
   {
    "duration": 13,
    "start_time": "2021-09-30T15:34:46.822Z"
   },
   {
    "duration": 78,
    "start_time": "2021-09-30T15:35:03.432Z"
   },
   {
    "duration": 13,
    "start_time": "2021-09-30T15:35:17.132Z"
   },
   {
    "duration": 1258,
    "start_time": "2021-09-30T15:38:34.375Z"
   },
   {
    "duration": 1433,
    "start_time": "2021-09-30T15:38:35.636Z"
   },
   {
    "duration": 4,
    "start_time": "2021-09-30T15:38:37.071Z"
   },
   {
    "duration": 687,
    "start_time": "2021-09-30T15:38:37.149Z"
   },
   {
    "duration": 4,
    "start_time": "2021-09-30T15:38:41.871Z"
   },
   {
    "duration": 42,
    "start_time": "2021-09-30T15:38:42.884Z"
   },
   {
    "duration": 43,
    "start_time": "2021-09-30T15:38:45.407Z"
   },
   {
    "duration": 93,
    "start_time": "2021-09-30T15:38:46.258Z"
   },
   {
    "duration": 78,
    "start_time": "2021-09-30T15:39:08.966Z"
   },
   {
    "duration": 356,
    "start_time": "2021-09-30T15:51:57.689Z"
   },
   {
    "duration": 272,
    "start_time": "2021-09-30T15:52:09.598Z"
   },
   {
    "duration": 254,
    "start_time": "2021-09-30T15:52:33.458Z"
   },
   {
    "duration": 255,
    "start_time": "2021-09-30T15:54:30.558Z"
   },
   {
    "duration": 274,
    "start_time": "2021-09-30T15:54:54.032Z"
   },
   {
    "duration": 252,
    "start_time": "2021-09-30T15:55:09.687Z"
   },
   {
    "duration": 517,
    "start_time": "2021-09-30T15:55:33.770Z"
   },
   {
    "duration": 361,
    "start_time": "2021-09-30T15:55:44.794Z"
   },
   {
    "duration": 1334,
    "start_time": "2021-09-30T15:55:56.616Z"
   },
   {
    "duration": 1582,
    "start_time": "2021-09-30T15:55:58.829Z"
   },
   {
    "duration": 5,
    "start_time": "2021-09-30T15:56:01.887Z"
   },
   {
    "duration": 717,
    "start_time": "2021-09-30T15:56:02.665Z"
   },
   {
    "duration": 3,
    "start_time": "2021-09-30T15:56:06.973Z"
   },
   {
    "duration": 41,
    "start_time": "2021-09-30T15:56:07.809Z"
   },
   {
    "duration": 45,
    "start_time": "2021-09-30T15:56:10.672Z"
   },
   {
    "duration": 92,
    "start_time": "2021-09-30T15:56:12.501Z"
   },
   {
    "duration": 77,
    "start_time": "2021-09-30T15:56:16.383Z"
   },
   {
    "duration": 188,
    "start_time": "2021-09-30T15:59:14.464Z"
   },
   {
    "duration": 77,
    "start_time": "2021-09-30T15:59:19.931Z"
   },
   {
    "duration": 45,
    "start_time": "2021-09-30T15:59:38.669Z"
   },
   {
    "duration": 522,
    "start_time": "2021-09-30T15:59:42.529Z"
   },
   {
    "duration": 3,
    "start_time": "2021-09-30T16:00:43.813Z"
   },
   {
    "duration": 11,
    "start_time": "2021-09-30T16:00:44.885Z"
   },
   {
    "duration": 1081,
    "start_time": "2021-09-30T16:00:49.919Z"
   },
   {
    "duration": 22,
    "start_time": "2021-09-30T16:01:03.856Z"
   },
   {
    "duration": 82,
    "start_time": "2021-09-30T16:01:05.056Z"
   },
   {
    "duration": 4,
    "start_time": "2021-09-30T16:01:05.885Z"
   },
   {
    "duration": 3,
    "start_time": "2021-09-30T16:01:08.067Z"
   },
   {
    "duration": 5,
    "start_time": "2021-09-30T16:01:09.266Z"
   },
   {
    "duration": 324,
    "start_time": "2021-09-30T16:01:10.342Z"
   },
   {
    "duration": 4,
    "start_time": "2021-09-30T16:01:14.322Z"
   },
   {
    "duration": 14017,
    "start_time": "2021-09-30T16:01:16.757Z"
   },
   {
    "duration": 5,
    "start_time": "2021-09-30T16:01:30.776Z"
   },
   {
    "duration": 859588,
    "start_time": "2021-09-30T16:01:30.783Z"
   },
   {
    "duration": 5,
    "start_time": "2021-09-30T16:15:50.373Z"
   },
   {
    "duration": 502460,
    "start_time": "2021-09-30T16:15:50.381Z"
   },
   {
    "duration": 130,
    "start_time": "2021-09-30T16:24:12.843Z"
   },
   {
    "duration": 7,
    "start_time": "2021-09-30T16:26:08.367Z"
   },
   {
    "duration": 479,
    "start_time": "2021-09-30T16:26:28.528Z"
   },
   {
    "duration": 8068,
    "start_time": "2021-09-30T16:26:43.929Z"
   },
   {
    "duration": 372,
    "start_time": "2021-09-30T16:28:08.552Z"
   },
   {
    "duration": 684,
    "start_time": "2021-09-30T16:28:55.278Z"
   },
   {
    "duration": 4,
    "start_time": "2021-09-30T16:31:12.209Z"
   },
   {
    "duration": 5204352,
    "start_time": "2021-09-30T16:31:44.313Z"
   },
   {
    "duration": 5,
    "start_time": "2021-09-30T18:02:20.551Z"
   },
   {
    "duration": 342668,
    "start_time": "2021-09-30T18:02:21.537Z"
   },
   {
    "duration": 99,
    "start_time": "2021-09-30T18:08:38.547Z"
   },
   {
    "duration": 4,
    "start_time": "2021-09-30T18:08:53.479Z"
   },
   {
    "duration": 941,
    "start_time": "2021-09-30T18:08:56.618Z"
   },
   {
    "duration": 27954,
    "start_time": "2021-09-30T18:12:21.082Z"
   },
   {
    "duration": 5,
    "start_time": "2021-09-30T18:14:22.234Z"
   },
   {
    "duration": 24238,
    "start_time": "2021-09-30T18:14:23.206Z"
   },
   {
    "duration": 4,
    "start_time": "2021-09-30T18:19:51.332Z"
   },
   {
    "duration": 26817,
    "start_time": "2021-09-30T18:19:53.074Z"
   },
   {
    "duration": 4,
    "start_time": "2021-09-30T18:23:13.247Z"
   },
   {
    "duration": 52168,
    "start_time": "2021-09-30T18:23:14.098Z"
   },
   {
    "duration": 2045,
    "start_time": "2021-10-01T06:55:47.769Z"
   },
   {
    "duration": 1912,
    "start_time": "2021-10-01T06:55:52.905Z"
   },
   {
    "duration": 6,
    "start_time": "2021-10-01T06:55:56.158Z"
   },
   {
    "duration": 911,
    "start_time": "2021-10-01T06:56:09.363Z"
   },
   {
    "duration": 4,
    "start_time": "2021-10-01T06:56:14.528Z"
   },
   {
    "duration": 59,
    "start_time": "2021-10-01T06:56:15.272Z"
   },
   {
    "duration": 62,
    "start_time": "2021-10-01T06:56:15.964Z"
   },
   {
    "duration": 97,
    "start_time": "2021-10-01T06:56:16.656Z"
   },
   {
    "duration": 108,
    "start_time": "2021-10-01T06:56:19.349Z"
   },
   {
    "duration": 253,
    "start_time": "2021-10-01T06:56:22.402Z"
   },
   {
    "duration": 116,
    "start_time": "2021-10-01T06:56:31.381Z"
   },
   {
    "duration": 53,
    "start_time": "2021-10-01T06:56:36.033Z"
   },
   {
    "duration": 742,
    "start_time": "2021-10-01T06:56:48.757Z"
   },
   {
    "duration": 4,
    "start_time": "2021-10-01T06:56:59.962Z"
   },
   {
    "duration": 17,
    "start_time": "2021-10-01T06:57:01.228Z"
   },
   {
    "duration": 1432,
    "start_time": "2021-10-01T06:57:04.744Z"
   },
   {
    "duration": 25,
    "start_time": "2021-10-01T06:57:10.830Z"
   },
   {
    "duration": 72,
    "start_time": "2021-10-01T06:57:11.674Z"
   },
   {
    "duration": 4,
    "start_time": "2021-10-01T06:57:14.941Z"
   },
   {
    "duration": 4,
    "start_time": "2021-10-01T06:57:21.505Z"
   },
   {
    "duration": 5,
    "start_time": "2021-10-01T06:57:22.254Z"
   },
   {
    "duration": 5,
    "start_time": "2021-10-01T06:58:17.146Z"
   },
   {
    "duration": 1102,
    "start_time": "2021-10-01T06:58:18.285Z"
   },
   {
    "duration": 10,
    "start_time": "2021-10-01T07:00:56.405Z"
   },
   {
    "duration": 382,
    "start_time": "2021-10-01T07:01:05.480Z"
   },
   {
    "duration": 6,
    "start_time": "2021-10-01T07:01:37.790Z"
   },
   {
    "duration": 690,
    "start_time": "2021-10-01T07:01:43.662Z"
   },
   {
    "duration": 16232,
    "start_time": "2021-10-01T07:07:12.727Z"
   },
   {
    "duration": 1713,
    "start_time": "2021-10-01T07:07:47.046Z"
   },
   {
    "duration": 4036,
    "start_time": "2021-10-01T07:08:00.862Z"
   },
   {
    "duration": 26,
    "start_time": "2021-10-01T07:19:50.032Z"
   },
   {
    "duration": 1185,
    "start_time": "2021-10-01T07:19:59.240Z"
   },
   {
    "duration": 4,
    "start_time": "2021-10-01T07:20:07.648Z"
   },
   {
    "duration": 60,
    "start_time": "2021-10-01T07:20:08.866Z"
   },
   {
    "duration": 68,
    "start_time": "2021-10-01T07:20:12.818Z"
   },
   {
    "duration": 102,
    "start_time": "2021-10-01T07:20:14.295Z"
   },
   {
    "duration": 99,
    "start_time": "2021-10-01T07:20:17.906Z"
   },
   {
    "duration": 280,
    "start_time": "2021-10-01T07:20:20.436Z"
   },
   {
    "duration": 99,
    "start_time": "2021-10-01T07:20:23.770Z"
   },
   {
    "duration": 187365,
    "start_time": "2021-10-01T07:20:30.372Z"
   },
   {
    "duration": 64,
    "start_time": "2021-10-01T07:23:37.740Z"
   },
   {
    "duration": 765,
    "start_time": "2021-10-01T07:23:37.807Z"
   },
   {
    "duration": 4,
    "start_time": "2021-10-01T07:23:38.574Z"
   },
   {
    "duration": 20,
    "start_time": "2021-10-01T07:23:38.580Z"
   },
   {
    "duration": 1499,
    "start_time": "2021-10-01T07:23:38.603Z"
   },
   {
    "duration": 139,
    "start_time": "2021-10-01T07:24:17.453Z"
   },
   {
    "duration": 386,
    "start_time": "2021-10-01T07:24:51.572Z"
   },
   {
    "duration": 15577,
    "start_time": "2021-10-01T07:24:57.805Z"
   },
   {
    "duration": 941809,
    "start_time": "2021-10-01T07:25:29.016Z"
   },
   {
    "duration": 408137,
    "start_time": "2021-10-01T07:48:23.131Z"
   },
   {
    "duration": 794,
    "start_time": "2021-10-01T07:55:11.271Z"
   },
   {
    "duration": 486012,
    "start_time": "2021-10-01T07:55:12.068Z"
   },
   {
    "duration": 69884,
    "start_time": "2021-10-01T08:03:18.083Z"
   },
   {
    "duration": 778,
    "start_time": "2021-10-01T08:43:49.352Z"
   },
   {
    "duration": 882,
    "start_time": "2021-10-01T08:47:29.759Z"
   },
   {
    "duration": 1801,
    "start_time": "2021-10-01T08:47:44.552Z"
   },
   {
    "duration": 1923,
    "start_time": "2021-10-01T08:47:48.981Z"
   },
   {
    "duration": 24,
    "start_time": "2021-10-01T08:47:51.430Z"
   },
   {
    "duration": 896,
    "start_time": "2021-10-01T08:47:53.713Z"
   },
   {
    "duration": 5,
    "start_time": "2021-10-01T08:48:03.408Z"
   },
   {
    "duration": 59,
    "start_time": "2021-10-01T08:48:04.345Z"
   },
   {
    "duration": 63,
    "start_time": "2021-10-01T08:48:05.959Z"
   },
   {
    "duration": 97,
    "start_time": "2021-10-01T08:48:08.119Z"
   },
   {
    "duration": 97,
    "start_time": "2021-10-01T08:48:13.987Z"
   },
   {
    "duration": 257,
    "start_time": "2021-10-01T08:48:16.447Z"
   },
   {
    "duration": 106,
    "start_time": "2021-10-01T08:48:17.721Z"
   },
   {
    "duration": 180143,
    "start_time": "2021-10-01T08:48:22.044Z"
   },
   {
    "duration": 76,
    "start_time": "2021-10-01T08:51:22.190Z"
   },
   {
    "duration": 795,
    "start_time": "2021-10-01T08:51:22.269Z"
   },
   {
    "duration": 3,
    "start_time": "2021-10-01T08:51:23.067Z"
   },
   {
    "duration": 20,
    "start_time": "2021-10-01T08:51:23.072Z"
   },
   {
    "duration": 1431,
    "start_time": "2021-10-01T08:51:23.094Z"
   },
   {
    "duration": 116,
    "start_time": "2021-10-01T08:51:24.528Z"
   },
   {
    "duration": 315,
    "start_time": "2021-10-01T08:51:24.647Z"
   },
   {
    "duration": 14521,
    "start_time": "2021-10-01T08:51:24.964Z"
   },
   {
    "duration": 902257,
    "start_time": "2021-10-01T08:51:39.488Z"
   },
   {
    "duration": 408131,
    "start_time": "2021-10-01T09:06:41.748Z"
   },
   {
    "duration": 791,
    "start_time": "2021-10-01T09:13:29.881Z"
   },
   {
    "duration": 486598,
    "start_time": "2021-10-01T09:13:30.675Z"
   },
   {
    "duration": 70184,
    "start_time": "2021-10-01T09:21:37.275Z"
   },
   {
    "duration": 1176,
    "start_time": "2021-10-01T21:08:57.499Z"
   },
   {
    "duration": 1410,
    "start_time": "2021-10-01T21:09:01.190Z"
   },
   {
    "duration": 14,
    "start_time": "2021-10-01T21:09:02.646Z"
   },
   {
    "duration": 653,
    "start_time": "2021-10-01T21:09:04.767Z"
   },
   {
    "duration": 3,
    "start_time": "2021-10-01T21:09:11.501Z"
   },
   {
    "duration": 41,
    "start_time": "2021-10-01T21:09:12.741Z"
   },
   {
    "duration": 38,
    "start_time": "2021-10-01T21:09:15.487Z"
   },
   {
    "duration": 78,
    "start_time": "2021-10-01T21:09:16.852Z"
   },
   {
    "duration": 74,
    "start_time": "2021-10-01T21:09:19.035Z"
   },
   {
    "duration": 179,
    "start_time": "2021-10-01T21:09:21.088Z"
   },
   {
    "duration": 74,
    "start_time": "2021-10-01T21:09:21.940Z"
   },
   {
    "duration": 114968,
    "start_time": "2021-10-01T21:09:23.964Z"
   },
   {
    "duration": 42,
    "start_time": "2021-10-01T21:11:18.934Z"
   },
   {
    "duration": 522,
    "start_time": "2021-10-01T21:11:18.978Z"
   },
   {
    "duration": 2,
    "start_time": "2021-10-01T21:11:19.502Z"
   },
   {
    "duration": 13,
    "start_time": "2021-10-01T21:11:19.506Z"
   },
   {
    "duration": 990,
    "start_time": "2021-10-01T21:11:19.520Z"
   },
   {
    "duration": 90,
    "start_time": "2021-10-01T21:11:20.512Z"
   },
   {
    "duration": 299,
    "start_time": "2021-10-01T21:11:20.604Z"
   },
   {
    "duration": 428,
    "start_time": "2021-10-01T21:11:20.905Z"
   },
   {
    "duration": 7977,
    "start_time": "2021-10-01T21:11:54.071Z"
   },
   {
    "duration": 291,
    "start_time": "2021-10-01T21:12:14.530Z"
   },
   {
    "duration": 1132,
    "start_time": "2021-10-01T21:12:43.834Z"
   },
   {
    "duration": 2866,
    "start_time": "2021-10-01T21:12:45.326Z"
   },
   {
    "duration": 16,
    "start_time": "2021-10-01T21:12:48.194Z"
   },
   {
    "duration": 628,
    "start_time": "2021-10-01T21:12:48.212Z"
   },
   {
    "duration": 3,
    "start_time": "2021-10-01T21:12:53.597Z"
   },
   {
    "duration": 39,
    "start_time": "2021-10-01T21:12:54.207Z"
   },
   {
    "duration": 40,
    "start_time": "2021-10-01T21:12:57.255Z"
   },
   {
    "duration": 76,
    "start_time": "2021-10-01T21:12:58.318Z"
   },
   {
    "duration": 77,
    "start_time": "2021-10-01T21:13:01.748Z"
   },
   {
    "duration": 169,
    "start_time": "2021-10-01T21:13:02.925Z"
   },
   {
    "duration": 72,
    "start_time": "2021-10-01T21:13:04.213Z"
   },
   {
    "duration": 111948,
    "start_time": "2021-10-01T21:13:06.080Z"
   },
   {
    "duration": 41,
    "start_time": "2021-10-01T21:14:58.030Z"
   },
   {
    "duration": 520,
    "start_time": "2021-10-01T21:14:58.073Z"
   },
   {
    "duration": 4,
    "start_time": "2021-10-01T21:14:58.595Z"
   },
   {
    "duration": 12,
    "start_time": "2021-10-01T21:14:58.601Z"
   },
   {
    "duration": 1014,
    "start_time": "2021-10-01T21:14:58.614Z"
   },
   {
    "duration": 94,
    "start_time": "2021-10-01T21:14:59.630Z"
   },
   {
    "duration": 278,
    "start_time": "2021-10-01T21:14:59.727Z"
   },
   {
    "duration": 10874,
    "start_time": "2021-10-01T21:15:00.007Z"
   },
   {
    "duration": 672722,
    "start_time": "2021-10-01T21:15:10.883Z"
   },
   {
    "duration": 267634,
    "start_time": "2021-10-01T21:26:23.607Z"
   },
   {
    "duration": 470,
    "start_time": "2021-10-01T21:30:51.243Z"
   },
   {
    "duration": 317802,
    "start_time": "2021-10-01T21:30:51.715Z"
   },
   {
    "duration": 45248,
    "start_time": "2021-10-01T21:36:09.519Z"
   }
  ],
  "kernelspec": {
   "display_name": "Python 3 (ipykernel)",
   "language": "python",
   "name": "python3"
  },
  "language_info": {
   "codemirror_mode": {
    "name": "ipython",
    "version": 3
   },
   "file_extension": ".py",
   "mimetype": "text/x-python",
   "name": "python",
   "nbconvert_exporter": "python",
   "pygments_lexer": "ipython3",
   "version": "3.9.7"
  },
  "toc": {
   "base_numbering": 1,
   "nav_menu": {},
   "number_sections": true,
   "sideBar": true,
   "skip_h1_title": true,
   "title_cell": "Table of Contents",
   "title_sidebar": "Contents",
   "toc_cell": false,
   "toc_position": {},
   "toc_section_display": true,
   "toc_window_display": false
  }
 },
 "nbformat": 4,
 "nbformat_minor": 2
}
